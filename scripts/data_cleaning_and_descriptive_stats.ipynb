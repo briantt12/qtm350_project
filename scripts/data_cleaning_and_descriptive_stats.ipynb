{
 "cells": [
  {
   "cell_type": "code",
   "execution_count": 5,
   "metadata": {},
   "outputs": [
    {
     "data": {
      "text/plain": [
       "139"
      ]
     },
     "execution_count": 5,
     "metadata": {},
     "output_type": "execute_result"
    }
   ],
   "source": [
    "import wbgapi as wb\n",
    "import pandas as pd\n",
    "import sqlite3\n",
    "\n",
    "# Indicators\n",
    "indicators = {\n",
    "    \"School enrollment, primary (% gross)\": \"SE.PRM.ENRR\",\n",
    "    \"School enrollment, secondary (% gross)\": \"SE.SEC.ENRR\",\n",
    "    \"School enrollment, tertiary (% gross)\": \"SE.TER.ENRR\",\n",
    "}\n",
    "\n",
    "# Country codes and names\n",
    "countries = {\n",
    "    \"JPN\": \"Japan\",\n",
    "    \"AFG\": \"Afghanistan\",\n",
    "    \"IND\": \"India\"\n",
    "}\n",
    "\n",
    "# Create SQLite in-memory database\n",
    "conn = sqlite3.connect(\":memory:\")\n",
    "cursor = conn.cursor()\n",
    "\n",
    "# Prepare and insert data\n",
    "all_data = []\n",
    "\n",
    "for code, name in countries.items():\n",
    "    data = wb.data.DataFrame(indicators.values(), code, mrv=200)\n",
    "    if not data.empty:\n",
    "        df = data.transpose()\n",
    "        df.reset_index(inplace=True)\n",
    "        df[\"Country\"] = name\n",
    "        df = df.rename(columns={\"index\": \"Year\"})\n",
    "        all_data.append(df)\n",
    "\n",
    "# Combine all country data into one DataFrame\n",
    "combined_df = pd.concat(all_data)\n",
    "\n",
    "# Write to SQL database\n",
    "combined_df.to_sql(\"enrollment_data\", conn, index=False, if_exists=\"replace\")"
   ]
  },
  {
   "cell_type": "code",
   "execution_count": 6,
   "metadata": {},
   "outputs": [],
   "source": [
    "split_queries = [\n",
    "    \"\"\"\n",
    "    CREATE TABLE afghanistan AS\n",
    "    SELECT * FROM enrollment_data\n",
    "    WHERE Country = 'Afghanistan'\n",
    "    \"\"\",\n",
    "    \"\"\"\n",
    "    CREATE TABLE india AS\n",
    "    SELECT * FROM enrollment_data\n",
    "    WHERE Country = 'India'\n",
    "    \"\"\",\n",
    "    \"\"\"\n",
    "    CREATE TABLE japan AS\n",
    "    SELECT * FROM enrollment_data\n",
    "    WHERE Country = 'Japan'\n",
    "    \"\"\"\n",
    "]\n",
    "\n",
    "for q in split_queries:\n",
    "    cursor.execute(q)\n",
    "\n"
   ]
  },
  {
   "cell_type": "code",
   "execution_count": 7,
   "metadata": {},
   "outputs": [
    {
     "data": {
      "text/plain": [
       "<sqlite3.Cursor at 0x1377ebac0>"
      ]
     },
     "execution_count": 7,
     "metadata": {},
     "output_type": "execute_result"
    }
   ],
   "source": [
    "conn.execute('ALTER TABLE india RENAME COLUMN \"SE.PRM.ENRR\" TO \"Primary Enrollment\";')\n",
    "conn.execute('ALTER TABLE india RENAME COLUMN \"SE.SEC.ENRR\" TO \"Secondary Enrollment\";')\n",
    "conn.execute('ALTER TABLE india RENAME COLUMN \"SE.TER.ENRR\" TO \"Tertiary Enrollment\";')\n",
    "\n",
    "conn.execute('ALTER TABLE japan RENAME COLUMN \"SE.PRM.ENRR\" TO \"Primary Enrollment\";')\n",
    "conn.execute('ALTER TABLE japan RENAME COLUMN \"SE.SEC.ENRR\" TO \"Secondary Enrollment\";')\n",
    "conn.execute('ALTER TABLE japan RENAME COLUMN \"SE.TER.ENRR\" TO \"Tertiary Enrollment\";')\n",
    "\n",
    "conn.execute('ALTER TABLE afghanistan RENAME COLUMN \"SE.PRM.ENRR\" TO \"Primary Enrollment\";')\n",
    "conn.execute('ALTER TABLE afghanistan RENAME COLUMN \"SE.SEC.ENRR\" TO \"Secondary Enrollment\";')\n",
    "conn.execute('ALTER TABLE afghanistan RENAME COLUMN \"SE.TER.ENRR\" TO \"Tertiary Enrollment\";')"
   ]
  },
  {
   "cell_type": "code",
   "execution_count": 5,
   "metadata": {},
   "outputs": [],
   "source": [
    "pd.read_sql_query(\"SELECT * FROM india\", conn).to_csv(\"india_enrollment.csv\", index=False)\n",
    "pd.read_sql_query(\"SELECT * FROM japan\", conn).to_csv(\"japan_enrollment.csv\", index=False)\n",
    "pd.read_sql_query(\"SELECT * FROM afghanistan\", conn).to_csv(\"afghanistan_enrollment.csv\", index=False)"
   ]
  },
  {
   "cell_type": "markdown",
   "metadata": {},
   "source": [
    "**Descriptive Statistics**"
   ]
  },
  {
   "cell_type": "code",
   "execution_count": 4,
   "metadata": {},
   "outputs": [
    {
     "name": "stdout",
     "output_type": "stream",
     "text": [
      "India:\n",
      "    count  avg_primary  min_primary  max_primary  avg_secondary  min_secondary  \\\n",
      "0     53    96.764678    78.981659   119.512833      51.181328       24.17012   \n",
      "\n",
      "   max_secondary  avg_tertiary  min_tertiary  max_tertiary  \n",
      "0      81.177861     13.906582       4.92445     33.116524  \n",
      "\n",
      "Japan:\n",
      "    count  avg_primary  min_primary  max_primary  avg_secondary  min_secondary  \\\n",
      "0     39   102.726731    98.300819   106.348808      97.819013      89.496887   \n",
      "\n",
      "   max_secondary  avg_tertiary  min_tertiary  max_tertiary  \n",
      "0     105.892799     38.852622      16.85821      64.62883  \n",
      "\n",
      "Afghanistan:\n",
      "    count  avg_primary  min_primary  max_primary  avg_secondary  min_secondary  \\\n",
      "0     47    62.809384     21.81455   110.007507      26.310449        8.88566   \n",
      "\n",
      "   max_secondary  avg_tertiary  min_tertiary  max_tertiary  \n",
      "0      57.039299      2.935639       0.80651      10.85844  \n"
     ]
    }
   ],
   "source": [
    "def get_descriptive_stats(table_name):\n",
    "    query = f\"\"\"\n",
    "    SELECT \n",
    "      COUNT(*) AS count,\n",
    "      AVG(\"Primary Enrollment\") AS avg_primary,\n",
    "      MIN(\"Primary Enrollment\") AS min_primary,\n",
    "      MAX(\"Primary Enrollment\") AS max_primary,\n",
    "      AVG(\"Secondary Enrollment\") AS avg_secondary,\n",
    "      MIN(\"Secondary Enrollment\") AS min_secondary,\n",
    "      MAX(\"Secondary Enrollment\") AS max_secondary,\n",
    "      AVG(\"Tertiary Enrollment\") AS avg_tertiary,\n",
    "      MIN(\"Tertiary Enrollment\") AS min_tertiary,\n",
    "      MAX(\"Tertiary Enrollment\") AS max_tertiary\n",
    "    FROM {table_name};\n",
    "    \"\"\"\n",
    "    return pd.read_sql_query(query, conn)\n",
    "\n",
    "# Descriptive statistics for each table\n",
    "india_stats = get_descriptive_stats(\"india\")\n",
    "japan_stats = get_descriptive_stats(\"japan\")\n",
    "afghanistan_stats = get_descriptive_stats(\"afghanistan\")\n",
    "\n",
    "# Print the results\n",
    "print(\"India:\\n\", india_stats)\n",
    "print(\"\\nJapan:\\n\", japan_stats)\n",
    "print(\"\\nAfghanistan:\\n\", afghanistan_stats)"
   ]
  }
 ],
 "metadata": {
  "kernelspec": {
   "display_name": "base",
   "language": "python",
   "name": "python3"
  },
  "language_info": {
   "codemirror_mode": {
    "name": "ipython",
    "version": 3
   },
   "file_extension": ".py",
   "mimetype": "text/x-python",
   "name": "python",
   "nbconvert_exporter": "python",
   "pygments_lexer": "ipython3",
   "version": "3.11.5"
  }
 },
 "nbformat": 4,
 "nbformat_minor": 2
}
