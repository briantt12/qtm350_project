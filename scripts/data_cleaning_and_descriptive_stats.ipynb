{
 "cells": [
  {
   "cell_type": "code",
   "execution_count": 2,
   "metadata": {},
   "outputs": [],
   "source": [
    "import wbgapi as wb\n",
    "import pandas as pd\n",
    "\n",
    "indicators = {\n",
    "    \"School enrollment, primary (% gross)\": \"SE.PRM.ENRR\",\n",
    "    \"School enrollment, secondary (% gross)\": \"SE.SEC.ENRR\",\n",
    "    \"School enrollment, tertiary (% gross)\": \"SE.TER.ENRR\",\n",
    "}\n",
    "\n",
    "# Define the countries\n",
    "countries = [\"JPN\", \"AFG\", \"IND\"]  # ISO3 country codes\n",
    "\n",
    "def create_enrollment_table(country_code, country_name, indicators_dict):\n",
    "    \"\"\"\n",
    "    Fetches and formats school enrollment data for a specific country.\n",
    "\n",
    "    Args:\n",
    "        country_code (str): ISO3 code of the country.\n",
    "        country_name (str): Name of the country.\n",
    "        indicators_dict (dict): Dictionary of indicator names and codes.\n",
    "\n",
    "    Returns:\n",
    "        pandas.DataFrame: A table with years as index and enrollment indicators as columns.\n",
    "                          Returns None if no data is found.\n",
    "    \"\"\"\n",
    "    data = wb.data.DataFrame(indicators_dict.values(), country_code, mrv=200) # Fetch last 200 years of data\n",
    "    if data.empty:\n",
    "        print(f\"No data found for {country_name}.\")\n",
    "        return None\n",
    "\n",
    "    df = data.transpose()\n",
    "    df.index.name = \"Year\"\n",
    "    df.columns = list(indicators_dict.keys())\n",
    "    df[\"Country\"] = country_name\n",
    "    df = df.set_index(\"Country\", append=True)\n",
    "    return df\n",
    "\n",
    "# Create tables for each country\n",
    "japan_table = create_enrollment_table(\"JPN\", \"Japan\", indicators)\n",
    "afghanistan_table = create_enrollment_table(\"AFG\", \"Afghanistan\", indicators)\n",
    "india_table = create_enrollment_table(\"IND\", \"India\", indicators)"
   ]
  },
  {
   "cell_type": "code",
   "execution_count": 3,
   "metadata": {},
   "outputs": [
    {
     "data": {
      "text/plain": [
       "47"
      ]
     },
     "execution_count": 3,
     "metadata": {},
     "output_type": "execute_result"
    }
   ],
   "source": [
    "import sqlite3\n",
    "\n",
    "conn = sqlite3.connect(':memory:')\n",
    "\n",
    "# Example: Save the India table properly to SQLite\n",
    "india_table_reset = india_table.reset_index()\n",
    "india_table_reset.to_sql(\"india\", conn, if_exists=\"replace\", index=False)\n",
    "japan_table_reset = japan_table.reset_index()\n",
    "japan_table_reset.to_sql(\"japan\", conn, if_exists=\"replace\", index=False)\n",
    "afghanistan_table_reset = afghanistan_table.reset_index()\n",
    "afghanistan_table_reset.to_sql(\"afghanistan\", conn, if_exists=\"replace\", index=False)\n"
   ]
  },
  {
   "cell_type": "code",
   "execution_count": 4,
   "metadata": {},
   "outputs": [
    {
     "data": {
      "text/plain": [
       "<sqlite3.Cursor at 0x12c334940>"
      ]
     },
     "execution_count": 4,
     "metadata": {},
     "output_type": "execute_result"
    }
   ],
   "source": [
    "conn.execute('ALTER TABLE india RENAME COLUMN \"School enrollment, primary (% gross)\" TO \"Primary Enrollment\";')\n",
    "conn.execute('ALTER TABLE india RENAME COLUMN \"School enrollment, secondary (% gross)\" TO \"Secondary Enrollment\";')\n",
    "conn.execute('ALTER TABLE india RENAME COLUMN \"School enrollment, tertiary (% gross)\" TO \"Tertiary Enrollment\";')\n",
    "conn.execute('ALTER TABLE japan RENAME COLUMN \"School enrollment, primary (% gross)\" TO \"Primary Enrollment\";')\n",
    "conn.execute('ALTER TABLE japan RENAME COLUMN \"School enrollment, secondary (% gross)\" TO \"Secondary Enrollment\";')\n",
    "conn.execute('ALTER TABLE japan RENAME COLUMN \"School enrollment, tertiary (% gross)\" TO \"Tertiary Enrollment\";')\n",
    "conn.execute('ALTER TABLE afghanistan RENAME COLUMN \"School enrollment, primary (% gross)\" TO \"Primary Enrollment\";')\n",
    "conn.execute('ALTER TABLE afghanistan RENAME COLUMN \"School enrollment, secondary (% gross)\" TO \"Secondary Enrollment\";')\n",
    "conn.execute('ALTER TABLE afghanistan RENAME COLUMN \"School enrollment, tertiary (% gross)\" TO \"Tertiary Enrollment\";')"
   ]
  },
  {
   "cell_type": "code",
   "execution_count": 5,
   "metadata": {},
   "outputs": [],
   "source": [
    "pd.read_sql_query(\"SELECT * FROM india\", conn).to_csv(\"india_enrollment.csv\", index=False)\n",
    "pd.read_sql_query(\"SELECT * FROM japan\", conn).to_csv(\"japan_enrollment.csv\", index=False)\n",
    "pd.read_sql_query(\"SELECT * FROM afghanistan\", conn).to_csv(\"afghanistan_enrollment.csv\", index=False)"
   ]
  }
 ],
 "metadata": {
  "kernelspec": {
   "display_name": "base",
   "language": "python",
   "name": "python3"
  },
  "language_info": {
   "codemirror_mode": {
    "name": "ipython",
    "version": 3
   },
   "file_extension": ".py",
   "mimetype": "text/x-python",
   "name": "python",
   "nbconvert_exporter": "python",
   "pygments_lexer": "ipython3",
   "version": "3.11.5"
  }
 },
 "nbformat": 4,
 "nbformat_minor": 2
}
