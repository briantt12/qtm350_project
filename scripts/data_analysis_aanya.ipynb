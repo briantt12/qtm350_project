{
 "cells": [
  {
   "cell_type": "markdown",
   "metadata": {},
   "source": [
    "Import data and cleanup"
   ]
  },
  {
   "cell_type": "code",
   "execution_count": 1,
   "metadata": {},
   "outputs": [],
   "source": [
    "import pandas as pd\n",
    "\n",
    "df_india = pd.read_csv('data/india_enrollment.csv')\n",
    "\n",
    "df_japan = pd.read_csv('data/japan_enrollment.csv')\n",
    "\n",
    "df_afghanistan = pd.read_csv('data/afghanistan_enrollment.csv')\n",
    "\n",
    "df_japan['Year'] = df_japan['Year'].str.replace('YR', '').astype(int)\n",
    "\n",
    "df_india['Year'] = df_india['Year'].str.replace('YR', '').astype(int)\n",
    "df_afghanistan['Year'] = df_afghanistan['Year'].str.replace('YR', '').astype(int)\n",
    "\n"
   ]
  },
  {
   "cell_type": "code",
   "execution_count": 8,
   "metadata": {},
   "outputs": [
    {
     "data": {
      "text/html": [
       "<div>\n",
       "<style scoped>\n",
       "    .dataframe tbody tr th:only-of-type {\n",
       "        vertical-align: middle;\n",
       "    }\n",
       "\n",
       "    .dataframe tbody tr th {\n",
       "        vertical-align: top;\n",
       "    }\n",
       "\n",
       "    .dataframe thead th {\n",
       "        text-align: right;\n",
       "    }\n",
       "</style>\n",
       "<table border=\"1\" class=\"dataframe\">\n",
       "  <thead>\n",
       "    <tr style=\"text-align: right;\">\n",
       "      <th></th>\n",
       "      <th>Year</th>\n",
       "      <th>Country</th>\n",
       "      <th>Primary Enrollment</th>\n",
       "      <th>Secondary Enrollment</th>\n",
       "      <th>Tertiary Enrollment</th>\n",
       "    </tr>\n",
       "  </thead>\n",
       "  <tbody>\n",
       "    <tr>\n",
       "      <th>0</th>\n",
       "      <td>1971</td>\n",
       "      <td>India</td>\n",
       "      <td>78.981659</td>\n",
       "      <td>24.170120</td>\n",
       "      <td>4.996970</td>\n",
       "    </tr>\n",
       "    <tr>\n",
       "      <th>1</th>\n",
       "      <td>1972</td>\n",
       "      <td>India</td>\n",
       "      <td>79.820122</td>\n",
       "      <td>24.521120</td>\n",
       "      <td>NaN</td>\n",
       "    </tr>\n",
       "    <tr>\n",
       "      <th>2</th>\n",
       "      <td>1973</td>\n",
       "      <td>India</td>\n",
       "      <td>83.178619</td>\n",
       "      <td>24.913059</td>\n",
       "      <td>5.089960</td>\n",
       "    </tr>\n",
       "    <tr>\n",
       "      <th>3</th>\n",
       "      <td>1974</td>\n",
       "      <td>India</td>\n",
       "      <td>82.684677</td>\n",
       "      <td>NaN</td>\n",
       "      <td>NaN</td>\n",
       "    </tr>\n",
       "    <tr>\n",
       "      <th>4</th>\n",
       "      <td>1975</td>\n",
       "      <td>India</td>\n",
       "      <td>83.441612</td>\n",
       "      <td>25.630671</td>\n",
       "      <td>NaN</td>\n",
       "    </tr>\n",
       "    <tr>\n",
       "      <th>5</th>\n",
       "      <td>1976</td>\n",
       "      <td>India</td>\n",
       "      <td>82.920792</td>\n",
       "      <td>25.838261</td>\n",
       "      <td>5.107940</td>\n",
       "    </tr>\n",
       "    <tr>\n",
       "      <th>6</th>\n",
       "      <td>1977</td>\n",
       "      <td>India</td>\n",
       "      <td>85.639664</td>\n",
       "      <td>26.414230</td>\n",
       "      <td>4.924450</td>\n",
       "    </tr>\n",
       "    <tr>\n",
       "      <th>7</th>\n",
       "      <td>1978</td>\n",
       "      <td>India</td>\n",
       "      <td>81.915901</td>\n",
       "      <td>26.831699</td>\n",
       "      <td>5.050350</td>\n",
       "    </tr>\n",
       "    <tr>\n",
       "      <th>8</th>\n",
       "      <td>1979</td>\n",
       "      <td>India</td>\n",
       "      <td>81.705223</td>\n",
       "      <td>NaN</td>\n",
       "      <td>5.012700</td>\n",
       "    </tr>\n",
       "    <tr>\n",
       "      <th>9</th>\n",
       "      <td>1980</td>\n",
       "      <td>India</td>\n",
       "      <td>83.052010</td>\n",
       "      <td>29.069429</td>\n",
       "      <td>5.013900</td>\n",
       "    </tr>\n",
       "    <tr>\n",
       "      <th>10</th>\n",
       "      <td>1981</td>\n",
       "      <td>India</td>\n",
       "      <td>84.403160</td>\n",
       "      <td>30.520691</td>\n",
       "      <td>5.305000</td>\n",
       "    </tr>\n",
       "    <tr>\n",
       "      <th>11</th>\n",
       "      <td>1982</td>\n",
       "      <td>India</td>\n",
       "      <td>85.079376</td>\n",
       "      <td>32.025791</td>\n",
       "      <td>4.994170</td>\n",
       "    </tr>\n",
       "    <tr>\n",
       "      <th>12</th>\n",
       "      <td>1983</td>\n",
       "      <td>India</td>\n",
       "      <td>87.143066</td>\n",
       "      <td>34.033909</td>\n",
       "      <td>5.613530</td>\n",
       "    </tr>\n",
       "    <tr>\n",
       "      <th>13</th>\n",
       "      <td>1984</td>\n",
       "      <td>India</td>\n",
       "      <td>88.792084</td>\n",
       "      <td>35.425289</td>\n",
       "      <td>5.910210</td>\n",
       "    </tr>\n",
       "    <tr>\n",
       "      <th>14</th>\n",
       "      <td>1985</td>\n",
       "      <td>India</td>\n",
       "      <td>88.745110</td>\n",
       "      <td>NaN</td>\n",
       "      <td>5.881070</td>\n",
       "    </tr>\n",
       "    <tr>\n",
       "      <th>15</th>\n",
       "      <td>1986</td>\n",
       "      <td>India</td>\n",
       "      <td>91.068069</td>\n",
       "      <td>37.503361</td>\n",
       "      <td>6.042700</td>\n",
       "    </tr>\n",
       "    <tr>\n",
       "      <th>16</th>\n",
       "      <td>1987</td>\n",
       "      <td>India</td>\n",
       "      <td>89.283897</td>\n",
       "      <td>37.034489</td>\n",
       "      <td>6.375170</td>\n",
       "    </tr>\n",
       "    <tr>\n",
       "      <th>17</th>\n",
       "      <td>1988</td>\n",
       "      <td>India</td>\n",
       "      <td>90.886780</td>\n",
       "      <td>37.132118</td>\n",
       "      <td>5.564680</td>\n",
       "    </tr>\n",
       "    <tr>\n",
       "      <th>18</th>\n",
       "      <td>1989</td>\n",
       "      <td>India</td>\n",
       "      <td>94.268303</td>\n",
       "      <td>37.290939</td>\n",
       "      <td>5.784200</td>\n",
       "    </tr>\n",
       "    <tr>\n",
       "      <th>19</th>\n",
       "      <td>1990</td>\n",
       "      <td>India</td>\n",
       "      <td>93.750587</td>\n",
       "      <td>NaN</td>\n",
       "      <td>5.981310</td>\n",
       "    </tr>\n",
       "    <tr>\n",
       "      <th>20</th>\n",
       "      <td>1991</td>\n",
       "      <td>India</td>\n",
       "      <td>93.343750</td>\n",
       "      <td>NaN</td>\n",
       "      <td>6.061040</td>\n",
       "    </tr>\n",
       "    <tr>\n",
       "      <th>21</th>\n",
       "      <td>1992</td>\n",
       "      <td>India</td>\n",
       "      <td>93.567207</td>\n",
       "      <td>NaN</td>\n",
       "      <td>NaN</td>\n",
       "    </tr>\n",
       "    <tr>\n",
       "      <th>22</th>\n",
       "      <td>1993</td>\n",
       "      <td>India</td>\n",
       "      <td>95.219650</td>\n",
       "      <td>45.895851</td>\n",
       "      <td>NaN</td>\n",
       "    </tr>\n",
       "    <tr>\n",
       "      <th>23</th>\n",
       "      <td>1994</td>\n",
       "      <td>India</td>\n",
       "      <td>95.905357</td>\n",
       "      <td>46.361431</td>\n",
       "      <td>NaN</td>\n",
       "    </tr>\n",
       "    <tr>\n",
       "      <th>24</th>\n",
       "      <td>1995</td>\n",
       "      <td>India</td>\n",
       "      <td>95.077019</td>\n",
       "      <td>46.202389</td>\n",
       "      <td>5.540080</td>\n",
       "    </tr>\n",
       "    <tr>\n",
       "      <th>25</th>\n",
       "      <td>1996</td>\n",
       "      <td>India</td>\n",
       "      <td>94.277107</td>\n",
       "      <td>46.274601</td>\n",
       "      <td>6.269500</td>\n",
       "    </tr>\n",
       "    <tr>\n",
       "      <th>26</th>\n",
       "      <td>1997</td>\n",
       "      <td>India</td>\n",
       "      <td>93.727982</td>\n",
       "      <td>46.792549</td>\n",
       "      <td>6.557610</td>\n",
       "    </tr>\n",
       "    <tr>\n",
       "      <th>27</th>\n",
       "      <td>1998</td>\n",
       "      <td>India</td>\n",
       "      <td>92.003510</td>\n",
       "      <td>NaN</td>\n",
       "      <td>NaN</td>\n",
       "    </tr>\n",
       "    <tr>\n",
       "      <th>28</th>\n",
       "      <td>1999</td>\n",
       "      <td>India</td>\n",
       "      <td>92.620300</td>\n",
       "      <td>43.668331</td>\n",
       "      <td>NaN</td>\n",
       "    </tr>\n",
       "    <tr>\n",
       "      <th>29</th>\n",
       "      <td>2000</td>\n",
       "      <td>India</td>\n",
       "      <td>93.997772</td>\n",
       "      <td>45.421051</td>\n",
       "      <td>9.652470</td>\n",
       "    </tr>\n",
       "    <tr>\n",
       "      <th>30</th>\n",
       "      <td>2001</td>\n",
       "      <td>India</td>\n",
       "      <td>98.995468</td>\n",
       "      <td>48.078129</td>\n",
       "      <td>10.392230</td>\n",
       "    </tr>\n",
       "    <tr>\n",
       "      <th>31</th>\n",
       "      <td>2002</td>\n",
       "      <td>India</td>\n",
       "      <td>98.065727</td>\n",
       "      <td>49.297321</td>\n",
       "      <td>10.784550</td>\n",
       "    </tr>\n",
       "    <tr>\n",
       "      <th>32</th>\n",
       "      <td>2003</td>\n",
       "      <td>India</td>\n",
       "      <td>106.223228</td>\n",
       "      <td>51.902809</td>\n",
       "      <td>11.275810</td>\n",
       "    </tr>\n",
       "    <tr>\n",
       "      <th>33</th>\n",
       "      <td>2004</td>\n",
       "      <td>India</td>\n",
       "      <td>NaN</td>\n",
       "      <td>53.658310</td>\n",
       "      <td>11.603800</td>\n",
       "    </tr>\n",
       "    <tr>\n",
       "      <th>34</th>\n",
       "      <td>2005</td>\n",
       "      <td>India</td>\n",
       "      <td>NaN</td>\n",
       "      <td>56.327980</td>\n",
       "      <td>11.319970</td>\n",
       "    </tr>\n",
       "    <tr>\n",
       "      <th>35</th>\n",
       "      <td>2006</td>\n",
       "      <td>India</td>\n",
       "      <td>NaN</td>\n",
       "      <td>57.224079</td>\n",
       "      <td>12.143810</td>\n",
       "    </tr>\n",
       "    <tr>\n",
       "      <th>36</th>\n",
       "      <td>2007</td>\n",
       "      <td>India</td>\n",
       "      <td>114.114319</td>\n",
       "      <td>59.589981</td>\n",
       "      <td>13.833910</td>\n",
       "    </tr>\n",
       "    <tr>\n",
       "      <th>37</th>\n",
       "      <td>2008</td>\n",
       "      <td>India</td>\n",
       "      <td>114.626556</td>\n",
       "      <td>62.679428</td>\n",
       "      <td>15.814120</td>\n",
       "    </tr>\n",
       "    <tr>\n",
       "      <th>38</th>\n",
       "      <td>2009</td>\n",
       "      <td>India</td>\n",
       "      <td>113.051682</td>\n",
       "      <td>61.800228</td>\n",
       "      <td>16.820589</td>\n",
       "    </tr>\n",
       "    <tr>\n",
       "      <th>39</th>\n",
       "      <td>2010</td>\n",
       "      <td>India</td>\n",
       "      <td>112.527946</td>\n",
       "      <td>65.351349</td>\n",
       "      <td>18.697180</td>\n",
       "    </tr>\n",
       "    <tr>\n",
       "      <th>40</th>\n",
       "      <td>2011</td>\n",
       "      <td>India</td>\n",
       "      <td>109.707903</td>\n",
       "      <td>68.591011</td>\n",
       "      <td>23.825369</td>\n",
       "    </tr>\n",
       "    <tr>\n",
       "      <th>41</th>\n",
       "      <td>2012</td>\n",
       "      <td>India</td>\n",
       "      <td>111.775574</td>\n",
       "      <td>70.324387</td>\n",
       "      <td>24.940210</td>\n",
       "    </tr>\n",
       "    <tr>\n",
       "      <th>42</th>\n",
       "      <td>2013</td>\n",
       "      <td>India</td>\n",
       "      <td>113.416779</td>\n",
       "      <td>69.956802</td>\n",
       "      <td>24.390638</td>\n",
       "    </tr>\n",
       "    <tr>\n",
       "      <th>43</th>\n",
       "      <td>2014</td>\n",
       "      <td>India</td>\n",
       "      <td>111.584541</td>\n",
       "      <td>75.318329</td>\n",
       "      <td>25.991325</td>\n",
       "    </tr>\n",
       "    <tr>\n",
       "      <th>44</th>\n",
       "      <td>2015</td>\n",
       "      <td>India</td>\n",
       "      <td>112.937843</td>\n",
       "      <td>74.948334</td>\n",
       "      <td>27.284567</td>\n",
       "    </tr>\n",
       "    <tr>\n",
       "      <th>45</th>\n",
       "      <td>2016</td>\n",
       "      <td>India</td>\n",
       "      <td>119.512833</td>\n",
       "      <td>76.119987</td>\n",
       "      <td>27.304358</td>\n",
       "    </tr>\n",
       "    <tr>\n",
       "      <th>46</th>\n",
       "      <td>2017</td>\n",
       "      <td>India</td>\n",
       "      <td>117.868172</td>\n",
       "      <td>74.597267</td>\n",
       "      <td>27.909052</td>\n",
       "    </tr>\n",
       "    <tr>\n",
       "      <th>47</th>\n",
       "      <td>2018</td>\n",
       "      <td>India</td>\n",
       "      <td>101.097956</td>\n",
       "      <td>75.784790</td>\n",
       "      <td>28.531687</td>\n",
       "    </tr>\n",
       "    <tr>\n",
       "      <th>48</th>\n",
       "      <td>2019</td>\n",
       "      <td>India</td>\n",
       "      <td>99.503924</td>\n",
       "      <td>75.525581</td>\n",
       "      <td>29.023359</td>\n",
       "    </tr>\n",
       "    <tr>\n",
       "      <th>49</th>\n",
       "      <td>2020</td>\n",
       "      <td>India</td>\n",
       "      <td>101.291253</td>\n",
       "      <td>77.627155</td>\n",
       "      <td>29.819639</td>\n",
       "    </tr>\n",
       "    <tr>\n",
       "      <th>50</th>\n",
       "      <td>2021</td>\n",
       "      <td>India</td>\n",
       "      <td>102.316123</td>\n",
       "      <td>80.624640</td>\n",
       "      <td>31.574177</td>\n",
       "    </tr>\n",
       "    <tr>\n",
       "      <th>51</th>\n",
       "      <td>2022</td>\n",
       "      <td>India</td>\n",
       "      <td>111.084456</td>\n",
       "      <td>81.177861</td>\n",
       "      <td>32.670307</td>\n",
       "    </tr>\n",
       "    <tr>\n",
       "      <th>52</th>\n",
       "      <td>2023</td>\n",
       "      <td>India</td>\n",
       "      <td>112.031231</td>\n",
       "      <td>78.863959</td>\n",
       "      <td>33.116524</td>\n",
       "    </tr>\n",
       "  </tbody>\n",
       "</table>\n",
       "</div>"
      ],
      "text/plain": [
       "    Year Country  Primary Enrollment  Secondary Enrollment  \\\n",
       "0   1971   India           78.981659             24.170120   \n",
       "1   1972   India           79.820122             24.521120   \n",
       "2   1973   India           83.178619             24.913059   \n",
       "3   1974   India           82.684677                   NaN   \n",
       "4   1975   India           83.441612             25.630671   \n",
       "5   1976   India           82.920792             25.838261   \n",
       "6   1977   India           85.639664             26.414230   \n",
       "7   1978   India           81.915901             26.831699   \n",
       "8   1979   India           81.705223                   NaN   \n",
       "9   1980   India           83.052010             29.069429   \n",
       "10  1981   India           84.403160             30.520691   \n",
       "11  1982   India           85.079376             32.025791   \n",
       "12  1983   India           87.143066             34.033909   \n",
       "13  1984   India           88.792084             35.425289   \n",
       "14  1985   India           88.745110                   NaN   \n",
       "15  1986   India           91.068069             37.503361   \n",
       "16  1987   India           89.283897             37.034489   \n",
       "17  1988   India           90.886780             37.132118   \n",
       "18  1989   India           94.268303             37.290939   \n",
       "19  1990   India           93.750587                   NaN   \n",
       "20  1991   India           93.343750                   NaN   \n",
       "21  1992   India           93.567207                   NaN   \n",
       "22  1993   India           95.219650             45.895851   \n",
       "23  1994   India           95.905357             46.361431   \n",
       "24  1995   India           95.077019             46.202389   \n",
       "25  1996   India           94.277107             46.274601   \n",
       "26  1997   India           93.727982             46.792549   \n",
       "27  1998   India           92.003510                   NaN   \n",
       "28  1999   India           92.620300             43.668331   \n",
       "29  2000   India           93.997772             45.421051   \n",
       "30  2001   India           98.995468             48.078129   \n",
       "31  2002   India           98.065727             49.297321   \n",
       "32  2003   India          106.223228             51.902809   \n",
       "33  2004   India                 NaN             53.658310   \n",
       "34  2005   India                 NaN             56.327980   \n",
       "35  2006   India                 NaN             57.224079   \n",
       "36  2007   India          114.114319             59.589981   \n",
       "37  2008   India          114.626556             62.679428   \n",
       "38  2009   India          113.051682             61.800228   \n",
       "39  2010   India          112.527946             65.351349   \n",
       "40  2011   India          109.707903             68.591011   \n",
       "41  2012   India          111.775574             70.324387   \n",
       "42  2013   India          113.416779             69.956802   \n",
       "43  2014   India          111.584541             75.318329   \n",
       "44  2015   India          112.937843             74.948334   \n",
       "45  2016   India          119.512833             76.119987   \n",
       "46  2017   India          117.868172             74.597267   \n",
       "47  2018   India          101.097956             75.784790   \n",
       "48  2019   India           99.503924             75.525581   \n",
       "49  2020   India          101.291253             77.627155   \n",
       "50  2021   India          102.316123             80.624640   \n",
       "51  2022   India          111.084456             81.177861   \n",
       "52  2023   India          112.031231             78.863959   \n",
       "\n",
       "    Tertiary Enrollment  \n",
       "0              4.996970  \n",
       "1                   NaN  \n",
       "2              5.089960  \n",
       "3                   NaN  \n",
       "4                   NaN  \n",
       "5              5.107940  \n",
       "6              4.924450  \n",
       "7              5.050350  \n",
       "8              5.012700  \n",
       "9              5.013900  \n",
       "10             5.305000  \n",
       "11             4.994170  \n",
       "12             5.613530  \n",
       "13             5.910210  \n",
       "14             5.881070  \n",
       "15             6.042700  \n",
       "16             6.375170  \n",
       "17             5.564680  \n",
       "18             5.784200  \n",
       "19             5.981310  \n",
       "20             6.061040  \n",
       "21                  NaN  \n",
       "22                  NaN  \n",
       "23                  NaN  \n",
       "24             5.540080  \n",
       "25             6.269500  \n",
       "26             6.557610  \n",
       "27                  NaN  \n",
       "28                  NaN  \n",
       "29             9.652470  \n",
       "30            10.392230  \n",
       "31            10.784550  \n",
       "32            11.275810  \n",
       "33            11.603800  \n",
       "34            11.319970  \n",
       "35            12.143810  \n",
       "36            13.833910  \n",
       "37            15.814120  \n",
       "38            16.820589  \n",
       "39            18.697180  \n",
       "40            23.825369  \n",
       "41            24.940210  \n",
       "42            24.390638  \n",
       "43            25.991325  \n",
       "44            27.284567  \n",
       "45            27.304358  \n",
       "46            27.909052  \n",
       "47            28.531687  \n",
       "48            29.023359  \n",
       "49            29.819639  \n",
       "50            31.574177  \n",
       "51            32.670307  \n",
       "52            33.116524  "
      ]
     },
     "execution_count": 8,
     "metadata": {},
     "output_type": "execute_result"
    }
   ],
   "source": [
    "df_india\n"
   ]
  },
  {
   "cell_type": "markdown",
   "metadata": {},
   "source": [
    "India Plotly Plot"
   ]
  },
  {
   "cell_type": "code",
   "execution_count": 21,
   "metadata": {},
   "outputs": [
    {
     "data": {
      "application/vnd.plotly.v1+json": {
       "config": {
        "plotlyServerURL": "https://plot.ly"
       },
       "data": [
        {
         "hovertemplate": "School Level=Primary Enrollment<br>Year=%{x}<br>% Enrolled=%{y}<extra></extra>",
         "legendgroup": "Primary Enrollment",
         "line": {
          "color": "#636efa",
          "dash": "solid"
         },
         "marker": {
          "symbol": "circle"
         },
         "mode": "lines+markers",
         "name": "Primary Enrollment",
         "orientation": "v",
         "showlegend": true,
         "type": "scatter",
         "x": [
          1971,
          1972,
          1973,
          1974,
          1975,
          1976,
          1977,
          1978,
          1979,
          1980,
          1981,
          1982,
          1983,
          1984,
          1985,
          1986,
          1987,
          1988,
          1989,
          1990,
          1991,
          1992,
          1993,
          1994,
          1995,
          1996,
          1997,
          1998,
          1999,
          2000,
          2001,
          2002,
          2003,
          2004,
          2005,
          2006,
          2007,
          2008,
          2009,
          2010,
          2011,
          2012,
          2013,
          2014,
          2015,
          2016,
          2017,
          2018,
          2019,
          2020,
          2021,
          2022,
          2023
         ],
         "xaxis": "x",
         "y": [
          78.9816589355469,
          79.8201217651367,
          83.1786193847656,
          82.6846771240234,
          83.4416122436523,
          82.9207916259766,
          85.6396636962891,
          81.915901184082,
          81.7052230834961,
          83.0520095825195,
          84.4031600952148,
          85.0793762207031,
          87.14306640625,
          88.7920837402344,
          88.7451095581055,
          91.0680694580078,
          89.2838973999023,
          90.8867797851562,
          94.2683029174805,
          93.7505874633789,
          93.34375,
          93.5672073364258,
          95.2196502685547,
          95.9053573608398,
          95.077018737793,
          94.2771072387695,
          93.7279815673828,
          92.0035095214844,
          92.6203002929688,
          93.9977722167969,
          98.9954681396484,
          98.0657272338867,
          106.22322845459,
          null,
          null,
          null,
          114.114318847656,
          114.626556396484,
          113.051681518555,
          112.527946472168,
          109.70790287368,
          111.775573730469,
          113.416778564453,
          111.584541320801,
          112.937843322754,
          119.512832641602,
          117.868171691895,
          101.097955965022,
          99.5039236144817,
          101.291253449929,
          102.316123319201,
          111.084455603874,
          112.03123091725
         ],
         "yaxis": "y"
        },
        {
         "hovertemplate": "School Level=Secondary Enrollment<br>Year=%{x}<br>% Enrolled=%{y}<extra></extra>",
         "legendgroup": "Secondary Enrollment",
         "line": {
          "color": "#EF553B",
          "dash": "solid"
         },
         "marker": {
          "symbol": "circle"
         },
         "mode": "lines+markers",
         "name": "Secondary Enrollment",
         "orientation": "v",
         "showlegend": true,
         "type": "scatter",
         "x": [
          1971,
          1972,
          1973,
          1974,
          1975,
          1976,
          1977,
          1978,
          1979,
          1980,
          1981,
          1982,
          1983,
          1984,
          1985,
          1986,
          1987,
          1988,
          1989,
          1990,
          1991,
          1992,
          1993,
          1994,
          1995,
          1996,
          1997,
          1998,
          1999,
          2000,
          2001,
          2002,
          2003,
          2004,
          2005,
          2006,
          2007,
          2008,
          2009,
          2010,
          2011,
          2012,
          2013,
          2014,
          2015,
          2016,
          2017,
          2018,
          2019,
          2020,
          2021,
          2022,
          2023
         ],
         "xaxis": "x",
         "y": [
          24.1701202392578,
          24.5211200714111,
          24.9130592346191,
          null,
          25.6306705474854,
          25.8382606506348,
          26.4142303466797,
          26.8316993713379,
          null,
          29.069429397583,
          30.5206909179688,
          32.0257911682129,
          34.0339088439941,
          35.4252891540527,
          null,
          37.503360748291,
          37.0344886779785,
          37.1321182250977,
          37.2909393310547,
          null,
          null,
          null,
          45.8958511352539,
          46.3614311218262,
          46.2023887634277,
          46.274600982666,
          46.7925491333008,
          null,
          43.6683311462402,
          45.4210510253906,
          48.0781288146973,
          49.2973213195801,
          51.9028091430664,
          53.6583099365234,
          56.3279800415039,
          57.2240791320801,
          59.5899810791016,
          62.6794281005859,
          61.8002281188965,
          65.3513488769531,
          68.5910110473633,
          70.3243865966797,
          69.9568023681641,
          75.3183288574219,
          74.9483337402344,
          76.119987487793,
          74.5972671508789,
          75.7847900390625,
          75.5255813598633,
          77.6271551845716,
          80.6246396929286,
          81.1778611796872,
          78.863958593161
         ],
         "yaxis": "y"
        },
        {
         "hovertemplate": "School Level=Tertiary Enrollment<br>Year=%{x}<br>% Enrolled=%{y}<extra></extra>",
         "legendgroup": "Tertiary Enrollment",
         "line": {
          "color": "#00cc96",
          "dash": "solid"
         },
         "marker": {
          "symbol": "circle"
         },
         "mode": "lines+markers",
         "name": "Tertiary Enrollment",
         "orientation": "v",
         "showlegend": true,
         "type": "scatter",
         "x": [
          1971,
          1972,
          1973,
          1974,
          1975,
          1976,
          1977,
          1978,
          1979,
          1980,
          1981,
          1982,
          1983,
          1984,
          1985,
          1986,
          1987,
          1988,
          1989,
          1990,
          1991,
          1992,
          1993,
          1994,
          1995,
          1996,
          1997,
          1998,
          1999,
          2000,
          2001,
          2002,
          2003,
          2004,
          2005,
          2006,
          2007,
          2008,
          2009,
          2010,
          2011,
          2012,
          2013,
          2014,
          2015,
          2016,
          2017,
          2018,
          2019,
          2020,
          2021,
          2022,
          2023
         ],
         "xaxis": "x",
         "y": [
          4.99697017669678,
          null,
          5.0899600982666,
          null,
          null,
          5.10794019699097,
          4.9244499206543,
          5.05035018920898,
          5.01270008087158,
          5.01389980316162,
          5.30499982833862,
          4.99417018890381,
          5.61353015899658,
          5.91021013259888,
          5.88107013702393,
          6.04269981384277,
          6.37517023086548,
          5.5646800994873,
          5.7842001914978,
          5.98130989074707,
          6.06103992462158,
          null,
          null,
          null,
          5.54008007049561,
          6.26949977874756,
          6.55761003494263,
          null,
          null,
          9.65246963500977,
          10.3922300338745,
          10.7845497131348,
          11.2758102416992,
          11.6037998199463,
          11.3199701309204,
          12.1438102722168,
          13.8339099884033,
          15.8141202926636,
          16.8205890655518,
          18.6971797943115,
          23.8253688812256,
          24.9402103424072,
          24.3906383514404,
          25.991325378418,
          27.2845668792725,
          27.3043575286865,
          27.9090518951416,
          28.5316867828369,
          29.0233592987061,
          29.8196392059326,
          31.5741767883301,
          32.6703071594238,
          33.1165237426758
         ],
         "yaxis": "y"
        }
       ],
       "layout": {
        "hovermode": "x unified",
        "legend": {
         "title": {
          "text": "School Level"
         },
         "tracegroupgap": 0
        },
        "template": {
         "data": {
          "bar": [
           {
            "error_x": {
             "color": "#2a3f5f"
            },
            "error_y": {
             "color": "#2a3f5f"
            },
            "marker": {
             "line": {
              "color": "#E5ECF6",
              "width": 0.5
             },
             "pattern": {
              "fillmode": "overlay",
              "size": 10,
              "solidity": 0.2
             }
            },
            "type": "bar"
           }
          ],
          "barpolar": [
           {
            "marker": {
             "line": {
              "color": "#E5ECF6",
              "width": 0.5
             },
             "pattern": {
              "fillmode": "overlay",
              "size": 10,
              "solidity": 0.2
             }
            },
            "type": "barpolar"
           }
          ],
          "carpet": [
           {
            "aaxis": {
             "endlinecolor": "#2a3f5f",
             "gridcolor": "white",
             "linecolor": "white",
             "minorgridcolor": "white",
             "startlinecolor": "#2a3f5f"
            },
            "baxis": {
             "endlinecolor": "#2a3f5f",
             "gridcolor": "white",
             "linecolor": "white",
             "minorgridcolor": "white",
             "startlinecolor": "#2a3f5f"
            },
            "type": "carpet"
           }
          ],
          "choropleth": [
           {
            "colorbar": {
             "outlinewidth": 0,
             "ticks": ""
            },
            "type": "choropleth"
           }
          ],
          "contour": [
           {
            "colorbar": {
             "outlinewidth": 0,
             "ticks": ""
            },
            "colorscale": [
             [
              0,
              "#0d0887"
             ],
             [
              0.1111111111111111,
              "#46039f"
             ],
             [
              0.2222222222222222,
              "#7201a8"
             ],
             [
              0.3333333333333333,
              "#9c179e"
             ],
             [
              0.4444444444444444,
              "#bd3786"
             ],
             [
              0.5555555555555556,
              "#d8576b"
             ],
             [
              0.6666666666666666,
              "#ed7953"
             ],
             [
              0.7777777777777778,
              "#fb9f3a"
             ],
             [
              0.8888888888888888,
              "#fdca26"
             ],
             [
              1,
              "#f0f921"
             ]
            ],
            "type": "contour"
           }
          ],
          "contourcarpet": [
           {
            "colorbar": {
             "outlinewidth": 0,
             "ticks": ""
            },
            "type": "contourcarpet"
           }
          ],
          "heatmap": [
           {
            "colorbar": {
             "outlinewidth": 0,
             "ticks": ""
            },
            "colorscale": [
             [
              0,
              "#0d0887"
             ],
             [
              0.1111111111111111,
              "#46039f"
             ],
             [
              0.2222222222222222,
              "#7201a8"
             ],
             [
              0.3333333333333333,
              "#9c179e"
             ],
             [
              0.4444444444444444,
              "#bd3786"
             ],
             [
              0.5555555555555556,
              "#d8576b"
             ],
             [
              0.6666666666666666,
              "#ed7953"
             ],
             [
              0.7777777777777778,
              "#fb9f3a"
             ],
             [
              0.8888888888888888,
              "#fdca26"
             ],
             [
              1,
              "#f0f921"
             ]
            ],
            "type": "heatmap"
           }
          ],
          "heatmapgl": [
           {
            "colorbar": {
             "outlinewidth": 0,
             "ticks": ""
            },
            "colorscale": [
             [
              0,
              "#0d0887"
             ],
             [
              0.1111111111111111,
              "#46039f"
             ],
             [
              0.2222222222222222,
              "#7201a8"
             ],
             [
              0.3333333333333333,
              "#9c179e"
             ],
             [
              0.4444444444444444,
              "#bd3786"
             ],
             [
              0.5555555555555556,
              "#d8576b"
             ],
             [
              0.6666666666666666,
              "#ed7953"
             ],
             [
              0.7777777777777778,
              "#fb9f3a"
             ],
             [
              0.8888888888888888,
              "#fdca26"
             ],
             [
              1,
              "#f0f921"
             ]
            ],
            "type": "heatmapgl"
           }
          ],
          "histogram": [
           {
            "marker": {
             "pattern": {
              "fillmode": "overlay",
              "size": 10,
              "solidity": 0.2
             }
            },
            "type": "histogram"
           }
          ],
          "histogram2d": [
           {
            "colorbar": {
             "outlinewidth": 0,
             "ticks": ""
            },
            "colorscale": [
             [
              0,
              "#0d0887"
             ],
             [
              0.1111111111111111,
              "#46039f"
             ],
             [
              0.2222222222222222,
              "#7201a8"
             ],
             [
              0.3333333333333333,
              "#9c179e"
             ],
             [
              0.4444444444444444,
              "#bd3786"
             ],
             [
              0.5555555555555556,
              "#d8576b"
             ],
             [
              0.6666666666666666,
              "#ed7953"
             ],
             [
              0.7777777777777778,
              "#fb9f3a"
             ],
             [
              0.8888888888888888,
              "#fdca26"
             ],
             [
              1,
              "#f0f921"
             ]
            ],
            "type": "histogram2d"
           }
          ],
          "histogram2dcontour": [
           {
            "colorbar": {
             "outlinewidth": 0,
             "ticks": ""
            },
            "colorscale": [
             [
              0,
              "#0d0887"
             ],
             [
              0.1111111111111111,
              "#46039f"
             ],
             [
              0.2222222222222222,
              "#7201a8"
             ],
             [
              0.3333333333333333,
              "#9c179e"
             ],
             [
              0.4444444444444444,
              "#bd3786"
             ],
             [
              0.5555555555555556,
              "#d8576b"
             ],
             [
              0.6666666666666666,
              "#ed7953"
             ],
             [
              0.7777777777777778,
              "#fb9f3a"
             ],
             [
              0.8888888888888888,
              "#fdca26"
             ],
             [
              1,
              "#f0f921"
             ]
            ],
            "type": "histogram2dcontour"
           }
          ],
          "mesh3d": [
           {
            "colorbar": {
             "outlinewidth": 0,
             "ticks": ""
            },
            "type": "mesh3d"
           }
          ],
          "parcoords": [
           {
            "line": {
             "colorbar": {
              "outlinewidth": 0,
              "ticks": ""
             }
            },
            "type": "parcoords"
           }
          ],
          "pie": [
           {
            "automargin": true,
            "type": "pie"
           }
          ],
          "scatter": [
           {
            "fillpattern": {
             "fillmode": "overlay",
             "size": 10,
             "solidity": 0.2
            },
            "type": "scatter"
           }
          ],
          "scatter3d": [
           {
            "line": {
             "colorbar": {
              "outlinewidth": 0,
              "ticks": ""
             }
            },
            "marker": {
             "colorbar": {
              "outlinewidth": 0,
              "ticks": ""
             }
            },
            "type": "scatter3d"
           }
          ],
          "scattercarpet": [
           {
            "marker": {
             "colorbar": {
              "outlinewidth": 0,
              "ticks": ""
             }
            },
            "type": "scattercarpet"
           }
          ],
          "scattergeo": [
           {
            "marker": {
             "colorbar": {
              "outlinewidth": 0,
              "ticks": ""
             }
            },
            "type": "scattergeo"
           }
          ],
          "scattergl": [
           {
            "marker": {
             "colorbar": {
              "outlinewidth": 0,
              "ticks": ""
             }
            },
            "type": "scattergl"
           }
          ],
          "scattermapbox": [
           {
            "marker": {
             "colorbar": {
              "outlinewidth": 0,
              "ticks": ""
             }
            },
            "type": "scattermapbox"
           }
          ],
          "scatterpolar": [
           {
            "marker": {
             "colorbar": {
              "outlinewidth": 0,
              "ticks": ""
             }
            },
            "type": "scatterpolar"
           }
          ],
          "scatterpolargl": [
           {
            "marker": {
             "colorbar": {
              "outlinewidth": 0,
              "ticks": ""
             }
            },
            "type": "scatterpolargl"
           }
          ],
          "scatterternary": [
           {
            "marker": {
             "colorbar": {
              "outlinewidth": 0,
              "ticks": ""
             }
            },
            "type": "scatterternary"
           }
          ],
          "surface": [
           {
            "colorbar": {
             "outlinewidth": 0,
             "ticks": ""
            },
            "colorscale": [
             [
              0,
              "#0d0887"
             ],
             [
              0.1111111111111111,
              "#46039f"
             ],
             [
              0.2222222222222222,
              "#7201a8"
             ],
             [
              0.3333333333333333,
              "#9c179e"
             ],
             [
              0.4444444444444444,
              "#bd3786"
             ],
             [
              0.5555555555555556,
              "#d8576b"
             ],
             [
              0.6666666666666666,
              "#ed7953"
             ],
             [
              0.7777777777777778,
              "#fb9f3a"
             ],
             [
              0.8888888888888888,
              "#fdca26"
             ],
             [
              1,
              "#f0f921"
             ]
            ],
            "type": "surface"
           }
          ],
          "table": [
           {
            "cells": {
             "fill": {
              "color": "#EBF0F8"
             },
             "line": {
              "color": "white"
             }
            },
            "header": {
             "fill": {
              "color": "#C8D4E3"
             },
             "line": {
              "color": "white"
             }
            },
            "type": "table"
           }
          ]
         },
         "layout": {
          "annotationdefaults": {
           "arrowcolor": "#2a3f5f",
           "arrowhead": 0,
           "arrowwidth": 1
          },
          "autotypenumbers": "strict",
          "coloraxis": {
           "colorbar": {
            "outlinewidth": 0,
            "ticks": ""
           }
          },
          "colorscale": {
           "diverging": [
            [
             0,
             "#8e0152"
            ],
            [
             0.1,
             "#c51b7d"
            ],
            [
             0.2,
             "#de77ae"
            ],
            [
             0.3,
             "#f1b6da"
            ],
            [
             0.4,
             "#fde0ef"
            ],
            [
             0.5,
             "#f7f7f7"
            ],
            [
             0.6,
             "#e6f5d0"
            ],
            [
             0.7,
             "#b8e186"
            ],
            [
             0.8,
             "#7fbc41"
            ],
            [
             0.9,
             "#4d9221"
            ],
            [
             1,
             "#276419"
            ]
           ],
           "sequential": [
            [
             0,
             "#0d0887"
            ],
            [
             0.1111111111111111,
             "#46039f"
            ],
            [
             0.2222222222222222,
             "#7201a8"
            ],
            [
             0.3333333333333333,
             "#9c179e"
            ],
            [
             0.4444444444444444,
             "#bd3786"
            ],
            [
             0.5555555555555556,
             "#d8576b"
            ],
            [
             0.6666666666666666,
             "#ed7953"
            ],
            [
             0.7777777777777778,
             "#fb9f3a"
            ],
            [
             0.8888888888888888,
             "#fdca26"
            ],
            [
             1,
             "#f0f921"
            ]
           ],
           "sequentialminus": [
            [
             0,
             "#0d0887"
            ],
            [
             0.1111111111111111,
             "#46039f"
            ],
            [
             0.2222222222222222,
             "#7201a8"
            ],
            [
             0.3333333333333333,
             "#9c179e"
            ],
            [
             0.4444444444444444,
             "#bd3786"
            ],
            [
             0.5555555555555556,
             "#d8576b"
            ],
            [
             0.6666666666666666,
             "#ed7953"
            ],
            [
             0.7777777777777778,
             "#fb9f3a"
            ],
            [
             0.8888888888888888,
             "#fdca26"
            ],
            [
             1,
             "#f0f921"
            ]
           ]
          },
          "colorway": [
           "#636efa",
           "#EF553B",
           "#00cc96",
           "#ab63fa",
           "#FFA15A",
           "#19d3f3",
           "#FF6692",
           "#B6E880",
           "#FF97FF",
           "#FECB52"
          ],
          "font": {
           "color": "#2a3f5f"
          },
          "geo": {
           "bgcolor": "white",
           "lakecolor": "white",
           "landcolor": "#E5ECF6",
           "showlakes": true,
           "showland": true,
           "subunitcolor": "white"
          },
          "hoverlabel": {
           "align": "left"
          },
          "hovermode": "closest",
          "mapbox": {
           "style": "light"
          },
          "paper_bgcolor": "white",
          "plot_bgcolor": "#E5ECF6",
          "polar": {
           "angularaxis": {
            "gridcolor": "white",
            "linecolor": "white",
            "ticks": ""
           },
           "bgcolor": "#E5ECF6",
           "radialaxis": {
            "gridcolor": "white",
            "linecolor": "white",
            "ticks": ""
           }
          },
          "scene": {
           "xaxis": {
            "backgroundcolor": "#E5ECF6",
            "gridcolor": "white",
            "gridwidth": 2,
            "linecolor": "white",
            "showbackground": true,
            "ticks": "",
            "zerolinecolor": "white"
           },
           "yaxis": {
            "backgroundcolor": "#E5ECF6",
            "gridcolor": "white",
            "gridwidth": 2,
            "linecolor": "white",
            "showbackground": true,
            "ticks": "",
            "zerolinecolor": "white"
           },
           "zaxis": {
            "backgroundcolor": "#E5ECF6",
            "gridcolor": "white",
            "gridwidth": 2,
            "linecolor": "white",
            "showbackground": true,
            "ticks": "",
            "zerolinecolor": "white"
           }
          },
          "shapedefaults": {
           "line": {
            "color": "#2a3f5f"
           }
          },
          "ternary": {
           "aaxis": {
            "gridcolor": "white",
            "linecolor": "white",
            "ticks": ""
           },
           "baxis": {
            "gridcolor": "white",
            "linecolor": "white",
            "ticks": ""
           },
           "bgcolor": "#E5ECF6",
           "caxis": {
            "gridcolor": "white",
            "linecolor": "white",
            "ticks": ""
           }
          },
          "title": {
           "x": 0.05
          },
          "xaxis": {
           "automargin": true,
           "gridcolor": "white",
           "linecolor": "white",
           "ticks": "",
           "title": {
            "standoff": 15
           },
           "zerolinecolor": "white",
           "zerolinewidth": 2
          },
          "yaxis": {
           "automargin": true,
           "gridcolor": "white",
           "linecolor": "white",
           "ticks": "",
           "title": {
            "standoff": 15
           },
           "zerolinecolor": "white",
           "zerolinewidth": 2
          }
         }
        },
        "title": {
         "text": "Enrollment by Level over Time (India)"
        },
        "xaxis": {
         "anchor": "y",
         "domain": [
          0,
          1
         ],
         "title": {
          "text": "Year"
         }
        },
        "yaxis": {
         "anchor": "x",
         "domain": [
          0,
          1
         ],
         "title": {
          "text": "% Enrolled"
         }
        }
       }
      }
     },
     "metadata": {},
     "output_type": "display_data"
    }
   ],
   "source": [
    "import plotly.express as px\n",
    "\n",
    "df_long = df_india.melt(\n",
    "    id_vars=['Year'],\n",
    "    value_vars=['Primary Enrollment', 'Secondary Enrollment', 'Tertiary Enrollment'],\n",
    "    var_name='Level',\n",
    "    value_name='Enrollment'\n",
    ")\n",
    "\n",
    "fig = px.line(\n",
    "    df_long,\n",
    "    x='Year',\n",
    "    y='Enrollment',\n",
    "    color='Level',\n",
    "    markers=True,\n",
    "    title='Enrollment by Level over Time (India)',\n",
    "    labels={'Enrollment':'% Enrolled','Level':'School Level'}\n",
    ")\n",
    "\n",
    "fig.update_layout(hovermode='x unified')\n",
    "fig.show()\n"
   ]
  },
  {
   "cell_type": "code",
   "execution_count": 23,
   "metadata": {},
   "outputs": [],
   "source": [
    "fig.write_html('enrollment_plot_india.html', include_plotlyjs='cdn')\n"
   ]
  },
  {
   "cell_type": "markdown",
   "metadata": {},
   "source": [
    "Japan Plotly Plot"
   ]
  },
  {
   "cell_type": "code",
   "execution_count": 17,
   "metadata": {},
   "outputs": [
    {
     "data": {
      "application/vnd.plotly.v1+json": {
       "config": {
        "plotlyServerURL": "https://plot.ly"
       },
       "data": [
        {
         "hovertemplate": "School Level=Primary Enrollment<br>Year=%{x}<br>% Enrolled=%{y}<extra></extra>",
         "legendgroup": "Primary Enrollment",
         "line": {
          "color": "#636efa",
          "dash": "solid"
         },
         "marker": {
          "symbol": "circle"
         },
         "mode": "lines+markers",
         "name": "Primary Enrollment",
         "orientation": "v",
         "showlegend": true,
         "type": "scatter",
         "x": [
          1971,
          1972,
          1973,
          1974,
          1975,
          1976,
          1977,
          1978,
          1979,
          1980,
          1981,
          1982,
          1983,
          1984,
          1985,
          1986,
          1987,
          1988,
          1989,
          1990,
          1991,
          1992,
          1993,
          1994,
          1995,
          1996,
          1997,
          1998,
          1999,
          2013,
          2014,
          2015,
          2016,
          2017,
          2018,
          2019,
          2020,
          2021,
          2022
         ],
         "xaxis": "x",
         "y": [
          99.7673797607422,
          98.515022277832,
          101.382659912109,
          98.3008193969727,
          98.8699111938477,
          99.8262481689453,
          100.468017578125,
          100.955421447754,
          98.3465576171875,
          100.897979736328,
          101.057250976562,
          101.455848693848,
          102.020500183105,
          102.566703796387,
          103.185752868652,
          104.224502563477,
          104.725341796875,
          104.812980651855,
          105.035507202148,
          105.436996459961,
          105.816207885742,
          105.982841491699,
          106.275009155273,
          106.348808288574,
          106.050399780273,
          105.785926818848,
          105.445770263672,
          105.037727355957,
          104.320327758789,
          102.255889892578,
          102.415283203125,
          102.41911315918,
          102.216911315918,
          102.254829406738,
          102.099906921387,
          102.652282714844,
          102.736831665039,
          102.218322753906,
          102.158706665039
         ],
         "yaxis": "y"
        },
        {
         "hovertemplate": "School Level=Secondary Enrollment<br>Year=%{x}<br>% Enrolled=%{y}<extra></extra>",
         "legendgroup": "Secondary Enrollment",
         "line": {
          "color": "#EF553B",
          "dash": "solid"
         },
         "marker": {
          "symbol": "circle"
         },
         "mode": "lines+markers",
         "name": "Secondary Enrollment",
         "orientation": "v",
         "showlegend": true,
         "type": "scatter",
         "x": [
          1971,
          1972,
          1973,
          1974,
          1975,
          1976,
          1977,
          1978,
          1979,
          1980,
          1981,
          1982,
          1983,
          1984,
          1985,
          1986,
          1987,
          1988,
          1989,
          1990,
          1991,
          1992,
          1993,
          1994,
          1995,
          1996,
          1997,
          1998,
          1999,
          2013,
          2014,
          2015,
          2016,
          2017,
          2018,
          2019,
          2020,
          2021,
          2022
         ],
         "xaxis": "x",
         "y": [
          89.4968872070312,
          90.1072082519531,
          90.9210586547852,
          92.0274200439453,
          92.3583984375,
          92.1384811401367,
          92.5177917480469,
          92.1658172607422,
          95.2694778442383,
          92.5105819702148,
          93.1327896118164,
          94.1170501708984,
          94.8321685791016,
          95.2592010498047,
          93.0627517700195,
          95.4335021972656,
          95.6961364746094,
          96.0851364135742,
          96.5883483886719,
          97.01806640625,
          98.878662109375,
          99.9357223510742,
          100.350608825684,
          104.207321166992,
          104.70955657959,
          105.423896789551,
          null,
          105.70581817627,
          105.892799377441,
          101.781173706055,
          101.813980102539,
          102.200416564941,
          101.167999267578,
          101.882888793945,
          102.425148010254,
          102.670066833496,
          102.844802856445,
          102.155380249023,
          102.337966918945
         ],
         "yaxis": "y"
        },
        {
         "hovertemplate": "School Level=Tertiary Enrollment<br>Year=%{x}<br>% Enrolled=%{y}<extra></extra>",
         "legendgroup": "Tertiary Enrollment",
         "line": {
          "color": "#00cc96",
          "dash": "solid"
         },
         "marker": {
          "symbol": "circle"
         },
         "mode": "lines+markers",
         "name": "Tertiary Enrollment",
         "orientation": "v",
         "showlegend": true,
         "type": "scatter",
         "x": [
          1971,
          1972,
          1973,
          1974,
          1975,
          1976,
          1977,
          1978,
          1979,
          1980,
          1981,
          1982,
          1983,
          1984,
          1985,
          1986,
          1987,
          1988,
          1989,
          1990,
          1991,
          1992,
          1993,
          1994,
          1995,
          1996,
          1997,
          1998,
          1999,
          2013,
          2014,
          2015,
          2016,
          2017,
          2018,
          2019,
          2020,
          2021,
          2022
         ],
         "xaxis": "x",
         "y": [
          16.8582096099854,
          19.1502799987793,
          21.2372703552246,
          23.2406406402588,
          25.2607192993164,
          27.3905296325684,
          28.5044097900391,
          30.500919342041,
          30.7336292266846,
          30.6837291717529,
          30.1805591583252,
          29.8377990722656,
          29.1943397521973,
          28.7035007476807,
          29.2574195861816,
          27.6399192810059,
          27.7797107696533,
          28.5227203369141,
          28.9983501434326,
          28.3045101165771,
          28.9670906066895,
          29.4865608215332,
          null,
          38.4202690124512,
          39.7703018188477,
          null,
          null,
          45.2566986083984,
          46.8638801574707,
          62.8381881713867,
          62.7269897460938,
          62.4726600646973,
          63.1872291564941,
          62.4629783630371,
          62.2089385986328,
          62.1184997558594,
          62.1358413696289,
          63.1702690124512,
          64.6288299560547
         ],
         "yaxis": "y"
        }
       ],
       "layout": {
        "hovermode": "x unified",
        "legend": {
         "title": {
          "text": "School Level"
         },
         "tracegroupgap": 0
        },
        "template": {
         "data": {
          "bar": [
           {
            "error_x": {
             "color": "#2a3f5f"
            },
            "error_y": {
             "color": "#2a3f5f"
            },
            "marker": {
             "line": {
              "color": "#E5ECF6",
              "width": 0.5
             },
             "pattern": {
              "fillmode": "overlay",
              "size": 10,
              "solidity": 0.2
             }
            },
            "type": "bar"
           }
          ],
          "barpolar": [
           {
            "marker": {
             "line": {
              "color": "#E5ECF6",
              "width": 0.5
             },
             "pattern": {
              "fillmode": "overlay",
              "size": 10,
              "solidity": 0.2
             }
            },
            "type": "barpolar"
           }
          ],
          "carpet": [
           {
            "aaxis": {
             "endlinecolor": "#2a3f5f",
             "gridcolor": "white",
             "linecolor": "white",
             "minorgridcolor": "white",
             "startlinecolor": "#2a3f5f"
            },
            "baxis": {
             "endlinecolor": "#2a3f5f",
             "gridcolor": "white",
             "linecolor": "white",
             "minorgridcolor": "white",
             "startlinecolor": "#2a3f5f"
            },
            "type": "carpet"
           }
          ],
          "choropleth": [
           {
            "colorbar": {
             "outlinewidth": 0,
             "ticks": ""
            },
            "type": "choropleth"
           }
          ],
          "contour": [
           {
            "colorbar": {
             "outlinewidth": 0,
             "ticks": ""
            },
            "colorscale": [
             [
              0,
              "#0d0887"
             ],
             [
              0.1111111111111111,
              "#46039f"
             ],
             [
              0.2222222222222222,
              "#7201a8"
             ],
             [
              0.3333333333333333,
              "#9c179e"
             ],
             [
              0.4444444444444444,
              "#bd3786"
             ],
             [
              0.5555555555555556,
              "#d8576b"
             ],
             [
              0.6666666666666666,
              "#ed7953"
             ],
             [
              0.7777777777777778,
              "#fb9f3a"
             ],
             [
              0.8888888888888888,
              "#fdca26"
             ],
             [
              1,
              "#f0f921"
             ]
            ],
            "type": "contour"
           }
          ],
          "contourcarpet": [
           {
            "colorbar": {
             "outlinewidth": 0,
             "ticks": ""
            },
            "type": "contourcarpet"
           }
          ],
          "heatmap": [
           {
            "colorbar": {
             "outlinewidth": 0,
             "ticks": ""
            },
            "colorscale": [
             [
              0,
              "#0d0887"
             ],
             [
              0.1111111111111111,
              "#46039f"
             ],
             [
              0.2222222222222222,
              "#7201a8"
             ],
             [
              0.3333333333333333,
              "#9c179e"
             ],
             [
              0.4444444444444444,
              "#bd3786"
             ],
             [
              0.5555555555555556,
              "#d8576b"
             ],
             [
              0.6666666666666666,
              "#ed7953"
             ],
             [
              0.7777777777777778,
              "#fb9f3a"
             ],
             [
              0.8888888888888888,
              "#fdca26"
             ],
             [
              1,
              "#f0f921"
             ]
            ],
            "type": "heatmap"
           }
          ],
          "heatmapgl": [
           {
            "colorbar": {
             "outlinewidth": 0,
             "ticks": ""
            },
            "colorscale": [
             [
              0,
              "#0d0887"
             ],
             [
              0.1111111111111111,
              "#46039f"
             ],
             [
              0.2222222222222222,
              "#7201a8"
             ],
             [
              0.3333333333333333,
              "#9c179e"
             ],
             [
              0.4444444444444444,
              "#bd3786"
             ],
             [
              0.5555555555555556,
              "#d8576b"
             ],
             [
              0.6666666666666666,
              "#ed7953"
             ],
             [
              0.7777777777777778,
              "#fb9f3a"
             ],
             [
              0.8888888888888888,
              "#fdca26"
             ],
             [
              1,
              "#f0f921"
             ]
            ],
            "type": "heatmapgl"
           }
          ],
          "histogram": [
           {
            "marker": {
             "pattern": {
              "fillmode": "overlay",
              "size": 10,
              "solidity": 0.2
             }
            },
            "type": "histogram"
           }
          ],
          "histogram2d": [
           {
            "colorbar": {
             "outlinewidth": 0,
             "ticks": ""
            },
            "colorscale": [
             [
              0,
              "#0d0887"
             ],
             [
              0.1111111111111111,
              "#46039f"
             ],
             [
              0.2222222222222222,
              "#7201a8"
             ],
             [
              0.3333333333333333,
              "#9c179e"
             ],
             [
              0.4444444444444444,
              "#bd3786"
             ],
             [
              0.5555555555555556,
              "#d8576b"
             ],
             [
              0.6666666666666666,
              "#ed7953"
             ],
             [
              0.7777777777777778,
              "#fb9f3a"
             ],
             [
              0.8888888888888888,
              "#fdca26"
             ],
             [
              1,
              "#f0f921"
             ]
            ],
            "type": "histogram2d"
           }
          ],
          "histogram2dcontour": [
           {
            "colorbar": {
             "outlinewidth": 0,
             "ticks": ""
            },
            "colorscale": [
             [
              0,
              "#0d0887"
             ],
             [
              0.1111111111111111,
              "#46039f"
             ],
             [
              0.2222222222222222,
              "#7201a8"
             ],
             [
              0.3333333333333333,
              "#9c179e"
             ],
             [
              0.4444444444444444,
              "#bd3786"
             ],
             [
              0.5555555555555556,
              "#d8576b"
             ],
             [
              0.6666666666666666,
              "#ed7953"
             ],
             [
              0.7777777777777778,
              "#fb9f3a"
             ],
             [
              0.8888888888888888,
              "#fdca26"
             ],
             [
              1,
              "#f0f921"
             ]
            ],
            "type": "histogram2dcontour"
           }
          ],
          "mesh3d": [
           {
            "colorbar": {
             "outlinewidth": 0,
             "ticks": ""
            },
            "type": "mesh3d"
           }
          ],
          "parcoords": [
           {
            "line": {
             "colorbar": {
              "outlinewidth": 0,
              "ticks": ""
             }
            },
            "type": "parcoords"
           }
          ],
          "pie": [
           {
            "automargin": true,
            "type": "pie"
           }
          ],
          "scatter": [
           {
            "fillpattern": {
             "fillmode": "overlay",
             "size": 10,
             "solidity": 0.2
            },
            "type": "scatter"
           }
          ],
          "scatter3d": [
           {
            "line": {
             "colorbar": {
              "outlinewidth": 0,
              "ticks": ""
             }
            },
            "marker": {
             "colorbar": {
              "outlinewidth": 0,
              "ticks": ""
             }
            },
            "type": "scatter3d"
           }
          ],
          "scattercarpet": [
           {
            "marker": {
             "colorbar": {
              "outlinewidth": 0,
              "ticks": ""
             }
            },
            "type": "scattercarpet"
           }
          ],
          "scattergeo": [
           {
            "marker": {
             "colorbar": {
              "outlinewidth": 0,
              "ticks": ""
             }
            },
            "type": "scattergeo"
           }
          ],
          "scattergl": [
           {
            "marker": {
             "colorbar": {
              "outlinewidth": 0,
              "ticks": ""
             }
            },
            "type": "scattergl"
           }
          ],
          "scattermapbox": [
           {
            "marker": {
             "colorbar": {
              "outlinewidth": 0,
              "ticks": ""
             }
            },
            "type": "scattermapbox"
           }
          ],
          "scatterpolar": [
           {
            "marker": {
             "colorbar": {
              "outlinewidth": 0,
              "ticks": ""
             }
            },
            "type": "scatterpolar"
           }
          ],
          "scatterpolargl": [
           {
            "marker": {
             "colorbar": {
              "outlinewidth": 0,
              "ticks": ""
             }
            },
            "type": "scatterpolargl"
           }
          ],
          "scatterternary": [
           {
            "marker": {
             "colorbar": {
              "outlinewidth": 0,
              "ticks": ""
             }
            },
            "type": "scatterternary"
           }
          ],
          "surface": [
           {
            "colorbar": {
             "outlinewidth": 0,
             "ticks": ""
            },
            "colorscale": [
             [
              0,
              "#0d0887"
             ],
             [
              0.1111111111111111,
              "#46039f"
             ],
             [
              0.2222222222222222,
              "#7201a8"
             ],
             [
              0.3333333333333333,
              "#9c179e"
             ],
             [
              0.4444444444444444,
              "#bd3786"
             ],
             [
              0.5555555555555556,
              "#d8576b"
             ],
             [
              0.6666666666666666,
              "#ed7953"
             ],
             [
              0.7777777777777778,
              "#fb9f3a"
             ],
             [
              0.8888888888888888,
              "#fdca26"
             ],
             [
              1,
              "#f0f921"
             ]
            ],
            "type": "surface"
           }
          ],
          "table": [
           {
            "cells": {
             "fill": {
              "color": "#EBF0F8"
             },
             "line": {
              "color": "white"
             }
            },
            "header": {
             "fill": {
              "color": "#C8D4E3"
             },
             "line": {
              "color": "white"
             }
            },
            "type": "table"
           }
          ]
         },
         "layout": {
          "annotationdefaults": {
           "arrowcolor": "#2a3f5f",
           "arrowhead": 0,
           "arrowwidth": 1
          },
          "autotypenumbers": "strict",
          "coloraxis": {
           "colorbar": {
            "outlinewidth": 0,
            "ticks": ""
           }
          },
          "colorscale": {
           "diverging": [
            [
             0,
             "#8e0152"
            ],
            [
             0.1,
             "#c51b7d"
            ],
            [
             0.2,
             "#de77ae"
            ],
            [
             0.3,
             "#f1b6da"
            ],
            [
             0.4,
             "#fde0ef"
            ],
            [
             0.5,
             "#f7f7f7"
            ],
            [
             0.6,
             "#e6f5d0"
            ],
            [
             0.7,
             "#b8e186"
            ],
            [
             0.8,
             "#7fbc41"
            ],
            [
             0.9,
             "#4d9221"
            ],
            [
             1,
             "#276419"
            ]
           ],
           "sequential": [
            [
             0,
             "#0d0887"
            ],
            [
             0.1111111111111111,
             "#46039f"
            ],
            [
             0.2222222222222222,
             "#7201a8"
            ],
            [
             0.3333333333333333,
             "#9c179e"
            ],
            [
             0.4444444444444444,
             "#bd3786"
            ],
            [
             0.5555555555555556,
             "#d8576b"
            ],
            [
             0.6666666666666666,
             "#ed7953"
            ],
            [
             0.7777777777777778,
             "#fb9f3a"
            ],
            [
             0.8888888888888888,
             "#fdca26"
            ],
            [
             1,
             "#f0f921"
            ]
           ],
           "sequentialminus": [
            [
             0,
             "#0d0887"
            ],
            [
             0.1111111111111111,
             "#46039f"
            ],
            [
             0.2222222222222222,
             "#7201a8"
            ],
            [
             0.3333333333333333,
             "#9c179e"
            ],
            [
             0.4444444444444444,
             "#bd3786"
            ],
            [
             0.5555555555555556,
             "#d8576b"
            ],
            [
             0.6666666666666666,
             "#ed7953"
            ],
            [
             0.7777777777777778,
             "#fb9f3a"
            ],
            [
             0.8888888888888888,
             "#fdca26"
            ],
            [
             1,
             "#f0f921"
            ]
           ]
          },
          "colorway": [
           "#636efa",
           "#EF553B",
           "#00cc96",
           "#ab63fa",
           "#FFA15A",
           "#19d3f3",
           "#FF6692",
           "#B6E880",
           "#FF97FF",
           "#FECB52"
          ],
          "font": {
           "color": "#2a3f5f"
          },
          "geo": {
           "bgcolor": "white",
           "lakecolor": "white",
           "landcolor": "#E5ECF6",
           "showlakes": true,
           "showland": true,
           "subunitcolor": "white"
          },
          "hoverlabel": {
           "align": "left"
          },
          "hovermode": "closest",
          "mapbox": {
           "style": "light"
          },
          "paper_bgcolor": "white",
          "plot_bgcolor": "#E5ECF6",
          "polar": {
           "angularaxis": {
            "gridcolor": "white",
            "linecolor": "white",
            "ticks": ""
           },
           "bgcolor": "#E5ECF6",
           "radialaxis": {
            "gridcolor": "white",
            "linecolor": "white",
            "ticks": ""
           }
          },
          "scene": {
           "xaxis": {
            "backgroundcolor": "#E5ECF6",
            "gridcolor": "white",
            "gridwidth": 2,
            "linecolor": "white",
            "showbackground": true,
            "ticks": "",
            "zerolinecolor": "white"
           },
           "yaxis": {
            "backgroundcolor": "#E5ECF6",
            "gridcolor": "white",
            "gridwidth": 2,
            "linecolor": "white",
            "showbackground": true,
            "ticks": "",
            "zerolinecolor": "white"
           },
           "zaxis": {
            "backgroundcolor": "#E5ECF6",
            "gridcolor": "white",
            "gridwidth": 2,
            "linecolor": "white",
            "showbackground": true,
            "ticks": "",
            "zerolinecolor": "white"
           }
          },
          "shapedefaults": {
           "line": {
            "color": "#2a3f5f"
           }
          },
          "ternary": {
           "aaxis": {
            "gridcolor": "white",
            "linecolor": "white",
            "ticks": ""
           },
           "baxis": {
            "gridcolor": "white",
            "linecolor": "white",
            "ticks": ""
           },
           "bgcolor": "#E5ECF6",
           "caxis": {
            "gridcolor": "white",
            "linecolor": "white",
            "ticks": ""
           }
          },
          "title": {
           "x": 0.05
          },
          "xaxis": {
           "automargin": true,
           "gridcolor": "white",
           "linecolor": "white",
           "ticks": "",
           "title": {
            "standoff": 15
           },
           "zerolinecolor": "white",
           "zerolinewidth": 2
          },
          "yaxis": {
           "automargin": true,
           "gridcolor": "white",
           "linecolor": "white",
           "ticks": "",
           "title": {
            "standoff": 15
           },
           "zerolinecolor": "white",
           "zerolinewidth": 2
          }
         }
        },
        "title": {
         "text": "Enrollment by Level over Time (Japan)"
        },
        "xaxis": {
         "anchor": "y",
         "domain": [
          0,
          1
         ],
         "title": {
          "text": "Year"
         }
        },
        "yaxis": {
         "anchor": "x",
         "domain": [
          0,
          1
         ],
         "title": {
          "text": "% Enrolled"
         }
        }
       }
      }
     },
     "metadata": {},
     "output_type": "display_data"
    }
   ],
   "source": [
    "df_long = df_japan.melt(\n",
    "    id_vars=['Year'],\n",
    "    value_vars=['Primary Enrollment', 'Secondary Enrollment', 'Tertiary Enrollment'],\n",
    "    var_name='Level',\n",
    "    value_name='Enrollment'\n",
    ")\n",
    "\n",
    "fig = px.line(\n",
    "    df_long,\n",
    "    x='Year',\n",
    "    y='Enrollment',\n",
    "    color='Level',\n",
    "    markers=True,\n",
    "    title='Enrollment by Level over Time (Japan)',\n",
    "    labels={'Enrollment':'% Enrolled','Level':'School Level'}\n",
    ")\n",
    "\n",
    "fig.update_layout(hovermode='x unified')\n",
    "fig.show()\n"
   ]
  },
  {
   "cell_type": "code",
   "execution_count": 19,
   "metadata": {},
   "outputs": [],
   "source": [
    "fig.write_html('enrollment_plot_japan.html', include_plotlyjs='cdn')\n"
   ]
  },
  {
   "cell_type": "markdown",
   "metadata": {},
   "source": [
    "Afghanistan Plotly Plot"
   ]
  },
  {
   "cell_type": "code",
   "execution_count": 4,
   "metadata": {},
   "outputs": [
    {
     "data": {
      "application/vnd.plotly.v1+json": {
       "config": {
        "plotlyServerURL": "https://plot.ly"
       },
       "data": [
        {
         "hovertemplate": "School Level=Primary Enrollment<br>Year=%{x}<br>% Enrolled=%{y}<extra></extra>",
         "legendgroup": "Primary Enrollment",
         "line": {
          "color": "#636efa",
          "dash": "solid"
         },
         "marker": {
          "symbol": "circle"
         },
         "mode": "lines+markers",
         "name": "Primary Enrollment",
         "orientation": "v",
         "showlegend": true,
         "type": "scatter",
         "x": [
          1970,
          1971,
          1972,
          1973,
          1974,
          1975,
          1976,
          1977,
          1978,
          1979,
          1980,
          1981,
          1982,
          1984,
          1985,
          1986,
          1987,
          1988,
          1989,
          1990,
          1991,
          1993,
          1994,
          1995,
          1998,
          1999,
          2000,
          2001,
          2002,
          2003,
          2004,
          2005,
          2006,
          2007,
          2008,
          2009,
          2010,
          2011,
          2012,
          2013,
          2014,
          2015,
          2016,
          2017,
          2018,
          2019,
          2020
         ],
         "xaxis": "x",
         "y": [
          33.4200096130371,
          34.3313407897949,
          34.7526817321777,
          35.2143707275391,
          35.7608299255371,
          36.7159118652344,
          37.6015090942383,
          38.3804092407227,
          39.6710205078125,
          null,
          46.066291809082,
          52.377140045166,
          21.8145503997803,
          27.0965194702148,
          27.3577995300293,
          29.0641803741455,
          null,
          37.8462295532227,
          35.4821014404297,
          34.5772399902344,
          36.1169204711914,
          36.4765815734863,
          47.7860984802246,
          49.6983299255371,
          34.2968788146973,
          27.298849105835,
          22.1629905700684,
          22.9085903167725,
          75.9597473144531,
          96.5536804199219,
          106.252662658691,
          100.229690551758,
          103.932243347168,
          101.086456298828,
          103.413963317871,
          99.3697204589844,
          102.903442382812,
          100.290298461914,
          106.283401489258,
          107.695976257324,
          109.115516662598,
          106.182418823242,
          106.150283813477,
          106.129997253418,
          107.780532836914,
          110.007507324219,
          null
         ],
         "yaxis": "y"
        },
        {
         "hovertemplate": "School Level=Secondary Enrollment<br>Year=%{x}<br>% Enrolled=%{y}<extra></extra>",
         "legendgroup": "Secondary Enrollment",
         "line": {
          "color": "#EF553B",
          "dash": "solid"
         },
         "marker": {
          "symbol": "circle"
         },
         "mode": "lines+markers",
         "name": "Secondary Enrollment",
         "orientation": "v",
         "showlegend": true,
         "type": "scatter",
         "x": [
          1970,
          1971,
          1972,
          1973,
          1974,
          1975,
          1976,
          1977,
          1978,
          1979,
          1980,
          1981,
          1982,
          1984,
          1985,
          1986,
          1987,
          1988,
          1989,
          1990,
          1991,
          1993,
          1994,
          1995,
          1998,
          1999,
          2000,
          2001,
          2002,
          2003,
          2004,
          2005,
          2006,
          2007,
          2008,
          2009,
          2010,
          2011,
          2012,
          2013,
          2014,
          2015,
          2016,
          2017,
          2018,
          2019,
          2020
         ],
         "xaxis": "x",
         "y": [
          8.88566017150879,
          9.95170974731445,
          11.0403900146484,
          11.5786199569702,
          11.7392597198486,
          12.2571201324463,
          13.1584596633911,
          13.9991502761841,
          14.5838003158569,
          null,
          17.6115207672119,
          21.2858104705811,
          13.3190698623657,
          15.0001802444458,
          14.6859302520752,
          13.2240104675293,
          null,
          14.6678104400635,
          14.1261196136475,
          12.3093795776367,
          19.6126003265381,
          18.6544399261475,
          24.9947395324707,
          23.9882106781006,
          null,
          null,
          null,
          14.4715099334717,
          null,
          14.078049659729,
          19.2631397247314,
          20.3119602203369,
          29.6913509368896,
          29.0891704559326,
          39.090030670166,
          44.3971710205078,
          50.413688659668,
          52.198429107666,
          54.2063903808594,
          54.7542190551758,
          54.235481262207,
          53.2851409912109,
          53.5063400268555,
          55.4021492004395,
          57.0392990112305,
          null,
          null
         ],
         "yaxis": "y"
        },
        {
         "hovertemplate": "School Level=Tertiary Enrollment<br>Year=%{x}<br>% Enrolled=%{y}<extra></extra>",
         "legendgroup": "Tertiary Enrollment",
         "line": {
          "color": "#00cc96",
          "dash": "solid"
         },
         "marker": {
          "symbol": "circle"
         },
         "mode": "lines+markers",
         "name": "Tertiary Enrollment",
         "orientation": "v",
         "showlegend": true,
         "type": "scatter",
         "x": [
          1970,
          1971,
          1972,
          1973,
          1974,
          1975,
          1976,
          1977,
          1978,
          1979,
          1980,
          1981,
          1982,
          1984,
          1985,
          1986,
          1987,
          1988,
          1989,
          1990,
          1991,
          1993,
          1994,
          1995,
          1998,
          1999,
          2000,
          2001,
          2002,
          2003,
          2004,
          2005,
          2006,
          2007,
          2008,
          2009,
          2010,
          2011,
          2012,
          2013,
          2014,
          2015,
          2016,
          2017,
          2018,
          2019,
          2020
         ],
         "xaxis": "x",
         "y": [
          0.806509971618652,
          0.97723001241684,
          1.01449000835419,
          1.17183995246887,
          1.09765005111694,
          1.19384002685547,
          1.34808003902435,
          1.4954400062561,
          1.90880000591278,
          2.0331699848175,
          null,
          null,
          2.19055008888245,
          null,
          null,
          2.37948989868164,
          1.88179004192352,
          null,
          null,
          2.46528005599976,
          null,
          null,
          null,
          null,
          null,
          null,
          null,
          null,
          null,
          1.38107001781464,
          1.38966000080109,
          null,
          null,
          null,
          null,
          4.02480983734131,
          null,
          3.75560998916626,
          null,
          null,
          8.31087017059326,
          null,
          null,
          null,
          9.96378993988037,
          null,
          10.8584403991699
         ],
         "yaxis": "y"
        }
       ],
       "layout": {
        "hovermode": "x unified",
        "legend": {
         "title": {
          "text": "School Level"
         },
         "tracegroupgap": 0
        },
        "template": {
         "data": {
          "bar": [
           {
            "error_x": {
             "color": "#2a3f5f"
            },
            "error_y": {
             "color": "#2a3f5f"
            },
            "marker": {
             "line": {
              "color": "#E5ECF6",
              "width": 0.5
             },
             "pattern": {
              "fillmode": "overlay",
              "size": 10,
              "solidity": 0.2
             }
            },
            "type": "bar"
           }
          ],
          "barpolar": [
           {
            "marker": {
             "line": {
              "color": "#E5ECF6",
              "width": 0.5
             },
             "pattern": {
              "fillmode": "overlay",
              "size": 10,
              "solidity": 0.2
             }
            },
            "type": "barpolar"
           }
          ],
          "carpet": [
           {
            "aaxis": {
             "endlinecolor": "#2a3f5f",
             "gridcolor": "white",
             "linecolor": "white",
             "minorgridcolor": "white",
             "startlinecolor": "#2a3f5f"
            },
            "baxis": {
             "endlinecolor": "#2a3f5f",
             "gridcolor": "white",
             "linecolor": "white",
             "minorgridcolor": "white",
             "startlinecolor": "#2a3f5f"
            },
            "type": "carpet"
           }
          ],
          "choropleth": [
           {
            "colorbar": {
             "outlinewidth": 0,
             "ticks": ""
            },
            "type": "choropleth"
           }
          ],
          "contour": [
           {
            "colorbar": {
             "outlinewidth": 0,
             "ticks": ""
            },
            "colorscale": [
             [
              0,
              "#0d0887"
             ],
             [
              0.1111111111111111,
              "#46039f"
             ],
             [
              0.2222222222222222,
              "#7201a8"
             ],
             [
              0.3333333333333333,
              "#9c179e"
             ],
             [
              0.4444444444444444,
              "#bd3786"
             ],
             [
              0.5555555555555556,
              "#d8576b"
             ],
             [
              0.6666666666666666,
              "#ed7953"
             ],
             [
              0.7777777777777778,
              "#fb9f3a"
             ],
             [
              0.8888888888888888,
              "#fdca26"
             ],
             [
              1,
              "#f0f921"
             ]
            ],
            "type": "contour"
           }
          ],
          "contourcarpet": [
           {
            "colorbar": {
             "outlinewidth": 0,
             "ticks": ""
            },
            "type": "contourcarpet"
           }
          ],
          "heatmap": [
           {
            "colorbar": {
             "outlinewidth": 0,
             "ticks": ""
            },
            "colorscale": [
             [
              0,
              "#0d0887"
             ],
             [
              0.1111111111111111,
              "#46039f"
             ],
             [
              0.2222222222222222,
              "#7201a8"
             ],
             [
              0.3333333333333333,
              "#9c179e"
             ],
             [
              0.4444444444444444,
              "#bd3786"
             ],
             [
              0.5555555555555556,
              "#d8576b"
             ],
             [
              0.6666666666666666,
              "#ed7953"
             ],
             [
              0.7777777777777778,
              "#fb9f3a"
             ],
             [
              0.8888888888888888,
              "#fdca26"
             ],
             [
              1,
              "#f0f921"
             ]
            ],
            "type": "heatmap"
           }
          ],
          "heatmapgl": [
           {
            "colorbar": {
             "outlinewidth": 0,
             "ticks": ""
            },
            "colorscale": [
             [
              0,
              "#0d0887"
             ],
             [
              0.1111111111111111,
              "#46039f"
             ],
             [
              0.2222222222222222,
              "#7201a8"
             ],
             [
              0.3333333333333333,
              "#9c179e"
             ],
             [
              0.4444444444444444,
              "#bd3786"
             ],
             [
              0.5555555555555556,
              "#d8576b"
             ],
             [
              0.6666666666666666,
              "#ed7953"
             ],
             [
              0.7777777777777778,
              "#fb9f3a"
             ],
             [
              0.8888888888888888,
              "#fdca26"
             ],
             [
              1,
              "#f0f921"
             ]
            ],
            "type": "heatmapgl"
           }
          ],
          "histogram": [
           {
            "marker": {
             "pattern": {
              "fillmode": "overlay",
              "size": 10,
              "solidity": 0.2
             }
            },
            "type": "histogram"
           }
          ],
          "histogram2d": [
           {
            "colorbar": {
             "outlinewidth": 0,
             "ticks": ""
            },
            "colorscale": [
             [
              0,
              "#0d0887"
             ],
             [
              0.1111111111111111,
              "#46039f"
             ],
             [
              0.2222222222222222,
              "#7201a8"
             ],
             [
              0.3333333333333333,
              "#9c179e"
             ],
             [
              0.4444444444444444,
              "#bd3786"
             ],
             [
              0.5555555555555556,
              "#d8576b"
             ],
             [
              0.6666666666666666,
              "#ed7953"
             ],
             [
              0.7777777777777778,
              "#fb9f3a"
             ],
             [
              0.8888888888888888,
              "#fdca26"
             ],
             [
              1,
              "#f0f921"
             ]
            ],
            "type": "histogram2d"
           }
          ],
          "histogram2dcontour": [
           {
            "colorbar": {
             "outlinewidth": 0,
             "ticks": ""
            },
            "colorscale": [
             [
              0,
              "#0d0887"
             ],
             [
              0.1111111111111111,
              "#46039f"
             ],
             [
              0.2222222222222222,
              "#7201a8"
             ],
             [
              0.3333333333333333,
              "#9c179e"
             ],
             [
              0.4444444444444444,
              "#bd3786"
             ],
             [
              0.5555555555555556,
              "#d8576b"
             ],
             [
              0.6666666666666666,
              "#ed7953"
             ],
             [
              0.7777777777777778,
              "#fb9f3a"
             ],
             [
              0.8888888888888888,
              "#fdca26"
             ],
             [
              1,
              "#f0f921"
             ]
            ],
            "type": "histogram2dcontour"
           }
          ],
          "mesh3d": [
           {
            "colorbar": {
             "outlinewidth": 0,
             "ticks": ""
            },
            "type": "mesh3d"
           }
          ],
          "parcoords": [
           {
            "line": {
             "colorbar": {
              "outlinewidth": 0,
              "ticks": ""
             }
            },
            "type": "parcoords"
           }
          ],
          "pie": [
           {
            "automargin": true,
            "type": "pie"
           }
          ],
          "scatter": [
           {
            "fillpattern": {
             "fillmode": "overlay",
             "size": 10,
             "solidity": 0.2
            },
            "type": "scatter"
           }
          ],
          "scatter3d": [
           {
            "line": {
             "colorbar": {
              "outlinewidth": 0,
              "ticks": ""
             }
            },
            "marker": {
             "colorbar": {
              "outlinewidth": 0,
              "ticks": ""
             }
            },
            "type": "scatter3d"
           }
          ],
          "scattercarpet": [
           {
            "marker": {
             "colorbar": {
              "outlinewidth": 0,
              "ticks": ""
             }
            },
            "type": "scattercarpet"
           }
          ],
          "scattergeo": [
           {
            "marker": {
             "colorbar": {
              "outlinewidth": 0,
              "ticks": ""
             }
            },
            "type": "scattergeo"
           }
          ],
          "scattergl": [
           {
            "marker": {
             "colorbar": {
              "outlinewidth": 0,
              "ticks": ""
             }
            },
            "type": "scattergl"
           }
          ],
          "scattermapbox": [
           {
            "marker": {
             "colorbar": {
              "outlinewidth": 0,
              "ticks": ""
             }
            },
            "type": "scattermapbox"
           }
          ],
          "scatterpolar": [
           {
            "marker": {
             "colorbar": {
              "outlinewidth": 0,
              "ticks": ""
             }
            },
            "type": "scatterpolar"
           }
          ],
          "scatterpolargl": [
           {
            "marker": {
             "colorbar": {
              "outlinewidth": 0,
              "ticks": ""
             }
            },
            "type": "scatterpolargl"
           }
          ],
          "scatterternary": [
           {
            "marker": {
             "colorbar": {
              "outlinewidth": 0,
              "ticks": ""
             }
            },
            "type": "scatterternary"
           }
          ],
          "surface": [
           {
            "colorbar": {
             "outlinewidth": 0,
             "ticks": ""
            },
            "colorscale": [
             [
              0,
              "#0d0887"
             ],
             [
              0.1111111111111111,
              "#46039f"
             ],
             [
              0.2222222222222222,
              "#7201a8"
             ],
             [
              0.3333333333333333,
              "#9c179e"
             ],
             [
              0.4444444444444444,
              "#bd3786"
             ],
             [
              0.5555555555555556,
              "#d8576b"
             ],
             [
              0.6666666666666666,
              "#ed7953"
             ],
             [
              0.7777777777777778,
              "#fb9f3a"
             ],
             [
              0.8888888888888888,
              "#fdca26"
             ],
             [
              1,
              "#f0f921"
             ]
            ],
            "type": "surface"
           }
          ],
          "table": [
           {
            "cells": {
             "fill": {
              "color": "#EBF0F8"
             },
             "line": {
              "color": "white"
             }
            },
            "header": {
             "fill": {
              "color": "#C8D4E3"
             },
             "line": {
              "color": "white"
             }
            },
            "type": "table"
           }
          ]
         },
         "layout": {
          "annotationdefaults": {
           "arrowcolor": "#2a3f5f",
           "arrowhead": 0,
           "arrowwidth": 1
          },
          "autotypenumbers": "strict",
          "coloraxis": {
           "colorbar": {
            "outlinewidth": 0,
            "ticks": ""
           }
          },
          "colorscale": {
           "diverging": [
            [
             0,
             "#8e0152"
            ],
            [
             0.1,
             "#c51b7d"
            ],
            [
             0.2,
             "#de77ae"
            ],
            [
             0.3,
             "#f1b6da"
            ],
            [
             0.4,
             "#fde0ef"
            ],
            [
             0.5,
             "#f7f7f7"
            ],
            [
             0.6,
             "#e6f5d0"
            ],
            [
             0.7,
             "#b8e186"
            ],
            [
             0.8,
             "#7fbc41"
            ],
            [
             0.9,
             "#4d9221"
            ],
            [
             1,
             "#276419"
            ]
           ],
           "sequential": [
            [
             0,
             "#0d0887"
            ],
            [
             0.1111111111111111,
             "#46039f"
            ],
            [
             0.2222222222222222,
             "#7201a8"
            ],
            [
             0.3333333333333333,
             "#9c179e"
            ],
            [
             0.4444444444444444,
             "#bd3786"
            ],
            [
             0.5555555555555556,
             "#d8576b"
            ],
            [
             0.6666666666666666,
             "#ed7953"
            ],
            [
             0.7777777777777778,
             "#fb9f3a"
            ],
            [
             0.8888888888888888,
             "#fdca26"
            ],
            [
             1,
             "#f0f921"
            ]
           ],
           "sequentialminus": [
            [
             0,
             "#0d0887"
            ],
            [
             0.1111111111111111,
             "#46039f"
            ],
            [
             0.2222222222222222,
             "#7201a8"
            ],
            [
             0.3333333333333333,
             "#9c179e"
            ],
            [
             0.4444444444444444,
             "#bd3786"
            ],
            [
             0.5555555555555556,
             "#d8576b"
            ],
            [
             0.6666666666666666,
             "#ed7953"
            ],
            [
             0.7777777777777778,
             "#fb9f3a"
            ],
            [
             0.8888888888888888,
             "#fdca26"
            ],
            [
             1,
             "#f0f921"
            ]
           ]
          },
          "colorway": [
           "#636efa",
           "#EF553B",
           "#00cc96",
           "#ab63fa",
           "#FFA15A",
           "#19d3f3",
           "#FF6692",
           "#B6E880",
           "#FF97FF",
           "#FECB52"
          ],
          "font": {
           "color": "#2a3f5f"
          },
          "geo": {
           "bgcolor": "white",
           "lakecolor": "white",
           "landcolor": "#E5ECF6",
           "showlakes": true,
           "showland": true,
           "subunitcolor": "white"
          },
          "hoverlabel": {
           "align": "left"
          },
          "hovermode": "closest",
          "mapbox": {
           "style": "light"
          },
          "paper_bgcolor": "white",
          "plot_bgcolor": "#E5ECF6",
          "polar": {
           "angularaxis": {
            "gridcolor": "white",
            "linecolor": "white",
            "ticks": ""
           },
           "bgcolor": "#E5ECF6",
           "radialaxis": {
            "gridcolor": "white",
            "linecolor": "white",
            "ticks": ""
           }
          },
          "scene": {
           "xaxis": {
            "backgroundcolor": "#E5ECF6",
            "gridcolor": "white",
            "gridwidth": 2,
            "linecolor": "white",
            "showbackground": true,
            "ticks": "",
            "zerolinecolor": "white"
           },
           "yaxis": {
            "backgroundcolor": "#E5ECF6",
            "gridcolor": "white",
            "gridwidth": 2,
            "linecolor": "white",
            "showbackground": true,
            "ticks": "",
            "zerolinecolor": "white"
           },
           "zaxis": {
            "backgroundcolor": "#E5ECF6",
            "gridcolor": "white",
            "gridwidth": 2,
            "linecolor": "white",
            "showbackground": true,
            "ticks": "",
            "zerolinecolor": "white"
           }
          },
          "shapedefaults": {
           "line": {
            "color": "#2a3f5f"
           }
          },
          "ternary": {
           "aaxis": {
            "gridcolor": "white",
            "linecolor": "white",
            "ticks": ""
           },
           "baxis": {
            "gridcolor": "white",
            "linecolor": "white",
            "ticks": ""
           },
           "bgcolor": "#E5ECF6",
           "caxis": {
            "gridcolor": "white",
            "linecolor": "white",
            "ticks": ""
           }
          },
          "title": {
           "x": 0.05
          },
          "xaxis": {
           "automargin": true,
           "gridcolor": "white",
           "linecolor": "white",
           "ticks": "",
           "title": {
            "standoff": 15
           },
           "zerolinecolor": "white",
           "zerolinewidth": 2
          },
          "yaxis": {
           "automargin": true,
           "gridcolor": "white",
           "linecolor": "white",
           "ticks": "",
           "title": {
            "standoff": 15
           },
           "zerolinecolor": "white",
           "zerolinewidth": 2
          }
         }
        },
        "title": {
         "text": "Enrollment by Level over Time (Afghanistan)"
        },
        "xaxis": {
         "anchor": "y",
         "domain": [
          0,
          1
         ],
         "title": {
          "text": "Year"
         }
        },
        "yaxis": {
         "anchor": "x",
         "domain": [
          0,
          1
         ],
         "title": {
          "text": "% Enrolled"
         }
        }
       }
      }
     },
     "metadata": {},
     "output_type": "display_data"
    }
   ],
   "source": [
    "df_long = df_afghanistan.melt(\n",
    "    id_vars=['Year'],\n",
    "    value_vars=['Primary Enrollment', 'Secondary Enrollment', 'Tertiary Enrollment'],\n",
    "    var_name='Level',\n",
    "    value_name='Enrollment'\n",
    ")\n",
    "\n",
    "fig = px.line(\n",
    "    df_long,\n",
    "    x='Year',\n",
    "    y='Enrollment',\n",
    "    color='Level',\n",
    "    markers=True,\n",
    "    title='Enrollment by Level over Time (Afghanistan)',\n",
    "    labels={'Enrollment':'% Enrolled','Level':'School Level'}\n",
    ")\n",
    "\n",
    "fig.update_layout(hovermode='x unified')\n",
    "fig.show()\n"
   ]
  },
  {
   "cell_type": "code",
   "execution_count": 16,
   "metadata": {},
   "outputs": [],
   "source": [
    "fig.write_html('enrollment_plot_afghanistan.html', include_plotlyjs='cdn')\n"
   ]
  },
  {
   "cell_type": "code",
   "execution_count": 13,
   "metadata": {},
   "outputs": [
    {
     "data": {
      "image/png": "[encoded data removed]",
      "text/plain": [
       "<Figure size 1000x600 with 1 Axes>"
      ]
     },
     "metadata": {},
     "output_type": "display_data"
    }
   ],
   "source": [
    "import pandas as pd\n",
    "import matplotlib.pyplot as plt\n",
    "\n",
    "# 1. Load each country’s data\n",
    "japan_df = pd.read_csv(\"data/japan_enrollment.csv\")\n",
    "india_df = pd.read_csv(\"data/india_enrollment.csv\")\n",
    "afg_df   = pd.read_csv(\"data/afghanistan_enrollment.csv\")\n",
    "\n",
    "# 2. Tag with country names\n",
    "japan_df[\"Country\"] = \"Japan\"\n",
    "india_df[\"Country\"] = \"India\"\n",
    "afg_df[\"Country\"]   = \"Afghanistan\"\n",
    "\n",
    "# 3. Combine into one DataFrame\n",
    "df = pd.concat([japan_df, india_df, afg_df], ignore_index=True)\n",
    "\n",
    "# 4. Keep only the tertiary column\n",
    "tertiary = df[[\"Country\", \"Year\", \"Tertiary Enrollment\"]].copy()\n",
    "tertiary.rename(columns={\"Tertiary Enrollment\": \"Enrollment\"}, inplace=True)\n",
    "\n",
    "# 5. Clean Year and filter 1990–2023\n",
    "tertiary[\"Year\"] = tertiary[\"Year\"].str.extract(r\"(\\d+)\").astype(int)\n",
    "tertiary = tertiary[(tertiary.Year >= 1970) & (tertiary.Year <= 2023)]\n",
    "\n",
    "# 6. Plot\n",
    "plt.figure(figsize=(10, 6))\n",
    "for country, group in tertiary.groupby(\"Country\"):\n",
    "    plt.plot(group.Year, group.Enrollment, label=country)\n",
    "\n",
    "plt.title(\"Tertiary School Enrollment (1990–2023)\")\n",
    "plt.xlabel(\"Year\")\n",
    "plt.ylabel(\"Tertiary Enrollment (% gross)\")\n",
    "plt.xticks(rotation=45)\n",
    "plt.legend()\n",
    "plt.tight_layout()\n",
    "plt.show()\n"
   ]
  },
  {
   "cell_type": "markdown",
   "metadata": {},
   "source": [
    "pie chart"
   ]
  },
  {
   "cell_type": "code",
   "execution_count": 31,
   "metadata": {},
   "outputs": [
    {
     "data": {
      "application/vnd.plotly.v1+json": {
       "config": {
        "plotlyServerURL": "https://plot.ly"
       },
       "data": [
        {
         "domain": {
          "x": [
           0,
           1
          ],
          "y": [
           0.7777777777777778,
           1
          ]
         },
         "labels": [],
         "name": "Japan",
         "type": "pie",
         "values": []
        },
        {
         "domain": {
          "x": [
           0,
           1
          ],
          "y": [
           0.3888888888888889,
           0.6111111111111112
          ]
         },
         "labels": [],
         "name": "India",
         "type": "pie",
         "values": []
        },
        {
         "domain": {
          "x": [
           0,
           1
          ],
          "y": [
           0,
           0.22222222222222224
          ]
         },
         "labels": [
          "Primary Enrollment",
          "Secondary Enrollment",
          "Tertiary Enrollment"
         ],
         "name": "Afghanistan",
         "type": "pie",
         "values": [
          33.4200096130371,
          8.88566017150879,
          0.806509971618652
         ]
        }
       ],
       "frames": [
        {
         "data": [
          {
           "labels": [],
           "type": "pie",
           "values": []
          },
          {
           "labels": [],
           "type": "pie",
           "values": []
          },
          {
           "labels": [
            "Primary Enrollment",
            "Secondary Enrollment",
            "Tertiary Enrollment"
           ],
           "type": "pie",
           "values": [
            33.4200096130371,
            8.88566017150879,
            0.806509971618652
           ]
          }
         ],
         "name": "YR1970"
        },
        {
         "data": [
          {
           "labels": [],
           "type": "pie",
           "values": []
          },
          {
           "labels": [],
           "type": "pie",
           "values": []
          },
          {
           "labels": [
            "Primary Enrollment",
            "Secondary Enrollment",
            "Tertiary Enrollment"
           ],
           "type": "pie",
           "values": [
            34.3313407897949,
            9.95170974731445,
            0.97723001241684
           ]
          }
         ],
         "name": "YR1971"
        },
        {
         "data": [
          {
           "labels": [
            "Primary Enrollment",
            "Secondary Enrollment",
            "Tertiary Enrollment"
           ],
           "type": "pie",
           "values": [
            98.515022277832,
            90.1072082519531,
            19.1502799987793
           ]
          },
          {
           "labels": [
            "Primary Enrollment",
            "Secondary Enrollment"
           ],
           "type": "pie",
           "values": [
            79.8201217651367,
            24.5211200714111
           ]
          },
          {
           "labels": [
            "Primary Enrollment",
            "Secondary Enrollment",
            "Tertiary Enrollment"
           ],
           "type": "pie",
           "values": [
            34.7526817321777,
            11.0403900146484,
            1.01449000835419
           ]
          }
         ],
         "name": "YR1972"
        },
        {
         "data": [
          {
           "labels": [
            "Primary Enrollment",
            "Secondary Enrollment",
            "Tertiary Enrollment"
           ],
           "type": "pie",
           "values": [
            101.382659912109,
            90.9210586547852,
            21.2372703552246
           ]
          },
          {
           "labels": [
            "Primary Enrollment",
            "Secondary Enrollment",
            "Tertiary Enrollment"
           ],
           "type": "pie",
           "values": [
            83.1786193847656,
            24.9130592346191,
            5.0899600982666
           ]
          },
          {
           "labels": [
            "Primary Enrollment",
            "Secondary Enrollment",
            "Tertiary Enrollment"
           ],
           "type": "pie",
           "values": [
            35.2143707275391,
            11.5786199569702,
            1.17183995246887
           ]
          }
         ],
         "name": "YR1973"
        },
        {
         "data": [
          {
           "labels": [
            "Primary Enrollment",
            "Secondary Enrollment",
            "Tertiary Enrollment"
           ],
           "type": "pie",
           "values": [
            98.3008193969727,
            92.0274200439453,
            23.2406406402588
           ]
          },
          {
           "labels": [
            "Primary Enrollment"
           ],
           "type": "pie",
           "values": [
            82.6846771240234
           ]
          },
          {
           "labels": [
            "Primary Enrollment",
            "Secondary Enrollment",
            "Tertiary Enrollment"
           ],
           "type": "pie",
           "values": [
            35.7608299255371,
            11.7392597198486,
            1.09765005111694
           ]
          }
         ],
         "name": "YR1974"
        },
        {
         "data": [
          {
           "labels": [
            "Primary Enrollment",
            "Secondary Enrollment",
            "Tertiary Enrollment"
           ],
           "type": "pie",
           "values": [
            98.8699111938477,
            92.3583984375,
            25.2607192993164
           ]
          },
          {
           "labels": [
            "Primary Enrollment",
            "Secondary Enrollment"
           ],
           "type": "pie",
           "values": [
            83.4416122436523,
            25.6306705474854
           ]
          },
          {
           "labels": [
            "Primary Enrollment",
            "Secondary Enrollment",
            "Tertiary Enrollment"
           ],
           "type": "pie",
           "values": [
            36.7159118652344,
            12.2571201324463,
            1.19384002685547
           ]
          }
         ],
         "name": "YR1975"
        },
        {
         "data": [
          {
           "labels": [
            "Primary Enrollment",
            "Secondary Enrollment",
            "Tertiary Enrollment"
           ],
           "type": "pie",
           "values": [
            99.8262481689453,
            92.1384811401367,
            27.3905296325684
           ]
          },
          {
           "labels": [
            "Primary Enrollment",
            "Secondary Enrollment",
            "Tertiary Enrollment"
           ],
           "type": "pie",
           "values": [
            82.9207916259766,
            25.8382606506348,
            5.10794019699097
           ]
          },
          {
           "labels": [
            "Primary Enrollment",
            "Secondary Enrollment",
            "Tertiary Enrollment"
           ],
           "type": "pie",
           "values": [
            37.6015090942383,
            13.1584596633911,
            1.34808003902435
           ]
          }
         ],
         "name": "YR1976"
        },
        {
         "data": [
          {
           "labels": [
            "Primary Enrollment",
            "Secondary Enrollment",
            "Tertiary Enrollment"
           ],
           "type": "pie",
           "values": [
            100.468017578125,
            92.5177917480469,
            28.5044097900391
           ]
          },
          {
           "labels": [
            "Primary Enrollment",
            "Secondary Enrollment",
            "Tertiary Enrollment"
           ],
           "type": "pie",
           "values": [
            85.6396636962891,
            26.4142303466797,
            4.9244499206543
           ]
          },
          {
           "labels": [
            "Primary Enrollment",
            "Secondary Enrollment",
            "Tertiary Enrollment"
           ],
           "type": "pie",
           "values": [
            38.3804092407227,
            13.9991502761841,
            1.4954400062561
           ]
          }
         ],
         "name": "YR1977"
        },
        {
         "data": [
          {
           "labels": [
            "Primary Enrollment",
            "Secondary Enrollment",
            "Tertiary Enrollment"
           ],
           "type": "pie",
           "values": [
            100.955421447754,
            92.1658172607422,
            30.500919342041
           ]
          },
          {
           "labels": [
            "Primary Enrollment",
            "Secondary Enrollment",
            "Tertiary Enrollment"
           ],
           "type": "pie",
           "values": [
            81.915901184082,
            26.8316993713379,
            5.05035018920898
           ]
          },
          {
           "labels": [
            "Primary Enrollment",
            "Secondary Enrollment",
            "Tertiary Enrollment"
           ],
           "type": "pie",
           "values": [
            39.6710205078125,
            14.5838003158569,
            1.90880000591278
           ]
          }
         ],
         "name": "YR1978"
        },
        {
         "data": [
          {
           "labels": [
            "Primary Enrollment",
            "Secondary Enrollment",
            "Tertiary Enrollment"
           ],
           "type": "pie",
           "values": [
            98.3465576171875,
            95.2694778442383,
            30.7336292266846
           ]
          },
          {
           "labels": [
            "Primary Enrollment",
            "Tertiary Enrollment"
           ],
           "type": "pie",
           "values": [
            81.7052230834961,
            5.01270008087158
           ]
          },
          {
           "labels": [
            "Tertiary Enrollment"
           ],
           "type": "pie",
           "values": [
            2.0331699848175
           ]
          }
         ],
         "name": "YR1979"
        },
        {
         "data": [
          {
           "labels": [
            "Primary Enrollment",
            "Secondary Enrollment",
            "Tertiary Enrollment"
           ],
           "type": "pie",
           "values": [
            100.897979736328,
            92.5105819702148,
            30.6837291717529
           ]
          },
          {
           "labels": [
            "Primary Enrollment",
            "Secondary Enrollment",
            "Tertiary Enrollment"
           ],
           "type": "pie",
           "values": [
            83.0520095825195,
            29.069429397583,
            5.01389980316162
           ]
          },
          {
           "labels": [
            "Primary Enrollment",
            "Secondary Enrollment"
           ],
           "type": "pie",
           "values": [
            46.066291809082,
            17.6115207672119
           ]
          }
         ],
         "name": "YR1980"
        },
        {
         "data": [
          {
           "labels": [
            "Primary Enrollment",
            "Secondary Enrollment",
            "Tertiary Enrollment"
           ],
           "type": "pie",
           "values": [
            101.057250976562,
            93.1327896118164,
            30.1805591583252
           ]
          },
          {
           "labels": [
            "Primary Enrollment",
            "Secondary Enrollment",
            "Tertiary Enrollment"
           ],
           "type": "pie",
           "values": [
            84.4031600952148,
            30.5206909179688,
            5.30499982833862
           ]
          },
          {
           "labels": [
            "Primary Enrollment",
            "Secondary Enrollment"
           ],
           "type": "pie",
           "values": [
            52.377140045166,
            21.2858104705811
           ]
          }
         ],
         "name": "YR1981"
        },
        {
         "data": [
          {
           "labels": [
            "Primary Enrollment",
            "Secondary Enrollment",
            "Tertiary Enrollment"
           ],
           "type": "pie",
           "values": [
            101.455848693848,
            94.1170501708984,
            29.8377990722656
           ]
          },
          {
           "labels": [
            "Primary Enrollment",
            "Secondary Enrollment",
            "Tertiary Enrollment"
           ],
           "type": "pie",
           "values": [
            85.0793762207031,
            32.0257911682129,
            4.99417018890381
           ]
          },
          {
           "labels": [
            "Primary Enrollment",
            "Secondary Enrollment",
            "Tertiary Enrollment"
           ],
           "type": "pie",
           "values": [
            21.8145503997803,
            13.3190698623657,
            2.19055008888245
           ]
          }
         ],
         "name": "YR1982"
        },
        {
         "data": [
          {
           "labels": [
            "Primary Enrollment",
            "Secondary Enrollment",
            "Tertiary Enrollment"
           ],
           "type": "pie",
           "values": [
            102.020500183105,
            94.8321685791016,
            29.1943397521973
           ]
          },
          {
           "labels": [
            "Primary Enrollment",
            "Secondary Enrollment",
            "Tertiary Enrollment"
           ],
           "type": "pie",
           "values": [
            87.14306640625,
            34.0339088439941,
            5.61353015899658
           ]
          },
          {
           "labels": [],
           "type": "pie",
           "values": []
          }
         ],
         "name": "YR1983"
        },
        {
         "data": [
          {
           "labels": [
            "Primary Enrollment",
            "Secondary Enrollment",
            "Tertiary Enrollment"
           ],
           "type": "pie",
           "values": [
            102.566703796387,
            95.2592010498047,
            28.7035007476807
           ]
          },
          {
           "labels": [
            "Primary Enrollment",
            "Secondary Enrollment",
            "Tertiary Enrollment"
           ],
           "type": "pie",
           "values": [
            88.7920837402344,
            35.4252891540527,
            5.91021013259888
           ]
          },
          {
           "labels": [
            "Primary Enrollment",
            "Secondary Enrollment"
           ],
           "type": "pie",
           "values": [
            27.0965194702148,
            15.0001802444458
           ]
          }
         ],
         "name": "YR1984"
        },
        {
         "data": [
          {
           "labels": [
            "Primary Enrollment",
            "Secondary Enrollment",
            "Tertiary Enrollment"
           ],
           "type": "pie",
           "values": [
            103.185752868652,
            93.0627517700195,
            29.2574195861816
           ]
          },
          {
           "labels": [
            "Primary Enrollment",
            "Tertiary Enrollment"
           ],
           "type": "pie",
           "values": [
            88.7451095581055,
            5.88107013702393
           ]
          },
          {
           "labels": [
            "Primary Enrollment",
            "Secondary Enrollment"
           ],
           "type": "pie",
           "values": [
            27.3577995300293,
            14.6859302520752
           ]
          }
         ],
         "name": "YR1985"
        },
        {
         "data": [
          {
           "labels": [
            "Primary Enrollment",
            "Secondary Enrollment",
            "Tertiary Enrollment"
           ],
           "type": "pie",
           "values": [
            104.224502563477,
            95.4335021972656,
            27.6399192810059
           ]
          },
          {
           "labels": [
            "Primary Enrollment",
            "Secondary Enrollment",
            "Tertiary Enrollment"
           ],
           "type": "pie",
           "values": [
            91.0680694580078,
            37.503360748291,
            6.04269981384277
           ]
          },
          {
           "labels": [
            "Primary Enrollment",
            "Secondary Enrollment",
            "Tertiary Enrollment"
           ],
           "type": "pie",
           "values": [
            29.0641803741455,
            13.2240104675293,
            2.37948989868164
           ]
          }
         ],
         "name": "YR1986"
        },
        {
         "data": [
          {
           "labels": [
            "Primary Enrollment",
            "Secondary Enrollment",
            "Tertiary Enrollment"
           ],
           "type": "pie",
           "values": [
            104.725341796875,
            95.6961364746094,
            27.7797107696533
           ]
          },
          {
           "labels": [
            "Primary Enrollment",
            "Secondary Enrollment",
            "Tertiary Enrollment"
           ],
           "type": "pie",
           "values": [
            89.2838973999023,
            37.0344886779785,
            6.37517023086548
           ]
          },
          {
           "labels": [
            "Tertiary Enrollment"
           ],
           "type": "pie",
           "values": [
            1.88179004192352
           ]
          }
         ],
         "name": "YR1987"
        },
        {
         "data": [
          {
           "labels": [
            "Primary Enrollment",
            "Secondary Enrollment",
            "Tertiary Enrollment"
           ],
           "type": "pie",
           "values": [
            104.812980651855,
            96.0851364135742,
            28.5227203369141
           ]
          },
          {
           "labels": [
            "Primary Enrollment",
            "Secondary Enrollment",
            "Tertiary Enrollment"
           ],
           "type": "pie",
           "values": [
            90.8867797851562,
            37.1321182250977,
            5.5646800994873
           ]
          },
          {
           "labels": [
            "Primary Enrollment",
            "Secondary Enrollment"
           ],
           "type": "pie",
           "values": [
            37.8462295532227,
            14.6678104400635
           ]
          }
         ],
         "name": "YR1988"
        },
        {
         "data": [
          {
           "labels": [
            "Primary Enrollment",
            "Secondary Enrollment",
            "Tertiary Enrollment"
           ],
           "type": "pie",
           "values": [
            105.035507202148,
            96.5883483886719,
            28.9983501434326
           ]
          },
          {
           "labels": [
            "Primary Enrollment",
            "Secondary Enrollment",
            "Tertiary Enrollment"
           ],
           "type": "pie",
           "values": [
            94.2683029174805,
            37.2909393310547,
            5.7842001914978
           ]
          },
          {
           "labels": [
            "Primary Enrollment",
            "Secondary Enrollment"
           ],
           "type": "pie",
           "values": [
            35.4821014404297,
            14.1261196136475
           ]
          }
         ],
         "name": "YR1989"
        },
        {
         "data": [
          {
           "labels": [
            "Primary Enrollment",
            "Secondary Enrollment",
            "Tertiary Enrollment"
           ],
           "type": "pie",
           "values": [
            105.436996459961,
            97.01806640625,
            28.3045101165771
           ]
          },
          {
           "labels": [
            "Primary Enrollment",
            "Tertiary Enrollment"
           ],
           "type": "pie",
           "values": [
            93.7505874633789,
            5.98130989074707
           ]
          },
          {
           "labels": [
            "Primary Enrollment",
            "Secondary Enrollment",
            "Tertiary Enrollment"
           ],
           "type": "pie",
           "values": [
            34.5772399902344,
            12.3093795776367,
            2.46528005599976
           ]
          }
         ],
         "name": "YR1990"
        },
        {
         "data": [
          {
           "labels": [
            "Primary Enrollment",
            "Secondary Enrollment",
            "Tertiary Enrollment"
           ],
           "type": "pie",
           "values": [
            105.816207885742,
            98.878662109375,
            28.9670906066895
           ]
          },
          {
           "labels": [
            "Primary Enrollment",
            "Tertiary Enrollment"
           ],
           "type": "pie",
           "values": [
            93.34375,
            6.06103992462158
           ]
          },
          {
           "labels": [
            "Primary Enrollment",
            "Secondary Enrollment"
           ],
           "type": "pie",
           "values": [
            36.1169204711914,
            19.6126003265381
           ]
          }
         ],
         "name": "YR1991"
        },
        {
         "data": [
          {
           "labels": [
            "Primary Enrollment",
            "Secondary Enrollment",
            "Tertiary Enrollment"
           ],
           "type": "pie",
           "values": [
            105.982841491699,
            99.9357223510742,
            29.4865608215332
           ]
          },
          {
           "labels": [
            "Primary Enrollment"
           ],
           "type": "pie",
           "values": [
            93.5672073364258
           ]
          },
          {
           "labels": [],
           "type": "pie",
           "values": []
          }
         ],
         "name": "YR1992"
        },
        {
         "data": [
          {
           "labels": [
            "Primary Enrollment",
            "Secondary Enrollment"
           ],
           "type": "pie",
           "values": [
            106.275009155273,
            100.350608825684
           ]
          },
          {
           "labels": [
            "Primary Enrollment",
            "Secondary Enrollment"
           ],
           "type": "pie",
           "values": [
            95.2196502685547,
            45.8958511352539
           ]
          },
          {
           "labels": [
            "Primary Enrollment",
            "Secondary Enrollment"
           ],
           "type": "pie",
           "values": [
            36.4765815734863,
            18.6544399261475
           ]
          }
         ],
         "name": "YR1993"
        },
        {
         "data": [
          {
           "labels": [
            "Primary Enrollment",
            "Secondary Enrollment",
            "Tertiary Enrollment"
           ],
           "type": "pie",
           "values": [
            106.348808288574,
            104.207321166992,
            38.4202690124512
           ]
          },
          {
           "labels": [
            "Primary Enrollment",
            "Secondary Enrollment"
           ],
           "type": "pie",
           "values": [
            95.9053573608398,
            46.3614311218262
           ]
          },
          {
           "labels": [
            "Primary Enrollment",
            "Secondary Enrollment"
           ],
           "type": "pie",
           "values": [
            47.7860984802246,
            24.9947395324707
           ]
          }
         ],
         "name": "YR1994"
        },
        {
         "data": [
          {
           "labels": [
            "Primary Enrollment",
            "Secondary Enrollment",
            "Tertiary Enrollment"
           ],
           "type": "pie",
           "values": [
            106.050399780273,
            104.70955657959,
            39.7703018188477
           ]
          },
          {
           "labels": [
            "Primary Enrollment",
            "Secondary Enrollment",
            "Tertiary Enrollment"
           ],
           "type": "pie",
           "values": [
            95.077018737793,
            46.2023887634277,
            5.54008007049561
           ]
          },
          {
           "labels": [
            "Primary Enrollment",
            "Secondary Enrollment"
           ],
           "type": "pie",
           "values": [
            49.6983299255371,
            23.9882106781006
           ]
          }
         ],
         "name": "YR1995"
        },
        {
         "data": [
          {
           "labels": [
            "Primary Enrollment",
            "Secondary Enrollment"
           ],
           "type": "pie",
           "values": [
            105.785926818848,
            105.423896789551
           ]
          },
          {
           "labels": [
            "Primary Enrollment",
            "Secondary Enrollment",
            "Tertiary Enrollment"
           ],
           "type": "pie",
           "values": [
            94.2771072387695,
            46.274600982666,
            6.26949977874756
           ]
          },
          {
           "labels": [],
           "type": "pie",
           "values": []
          }
         ],
         "name": "YR1996"
        },
        {
         "data": [
          {
           "labels": [
            "Primary Enrollment"
           ],
           "type": "pie",
           "values": [
            105.445770263672
           ]
          },
          {
           "labels": [
            "Primary Enrollment",
            "Secondary Enrollment",
            "Tertiary Enrollment"
           ],
           "type": "pie",
           "values": [
            93.7279815673828,
            46.7925491333008,
            6.55761003494263
           ]
          },
          {
           "labels": [],
           "type": "pie",
           "values": []
          }
         ],
         "name": "YR1997"
        },
        {
         "data": [
          {
           "labels": [
            "Primary Enrollment",
            "Secondary Enrollment",
            "Tertiary Enrollment"
           ],
           "type": "pie",
           "values": [
            105.037727355957,
            105.70581817627,
            45.2566986083984
           ]
          },
          {
           "labels": [
            "Primary Enrollment"
           ],
           "type": "pie",
           "values": [
            92.0035095214844
           ]
          },
          {
           "labels": [
            "Primary Enrollment"
           ],
           "type": "pie",
           "values": [
            34.2968788146973
           ]
          }
         ],
         "name": "YR1998"
        },
        {
         "data": [
          {
           "labels": [
            "Primary Enrollment",
            "Secondary Enrollment",
            "Tertiary Enrollment"
           ],
           "type": "pie",
           "values": [
            104.320327758789,
            105.892799377441,
            46.8638801574707
           ]
          },
          {
           "labels": [
            "Primary Enrollment",
            "Secondary Enrollment"
           ],
           "type": "pie",
           "values": [
            92.6203002929688,
            43.6683311462402
           ]
          },
          {
           "labels": [
            "Primary Enrollment"
           ],
           "type": "pie",
           "values": [
            27.298849105835
           ]
          }
         ],
         "name": "YR1999"
        },
        {
         "data": [
          {
           "labels": [],
           "type": "pie",
           "values": []
          },
          {
           "labels": [
            "Primary Enrollment",
            "Secondary Enrollment",
            "Tertiary Enrollment"
           ],
           "type": "pie",
           "values": [
            93.9977722167969,
            45.4210510253906,
            9.65246963500977
           ]
          },
          {
           "labels": [
            "Primary Enrollment"
           ],
           "type": "pie",
           "values": [
            22.1629905700684
           ]
          }
         ],
         "name": "YR2000"
        },
        {
         "data": [
          {
           "labels": [],
           "type": "pie",
           "values": []
          },
          {
           "labels": [
            "Primary Enrollment",
            "Secondary Enrollment",
            "Tertiary Enrollment"
           ],
           "type": "pie",
           "values": [
            98.9954681396484,
            48.0781288146973,
            10.3922300338745
           ]
          },
          {
           "labels": [
            "Primary Enrollment",
            "Secondary Enrollment"
           ],
           "type": "pie",
           "values": [
            22.9085903167725,
            14.4715099334717
           ]
          }
         ],
         "name": "YR2001"
        },
        {
         "data": [
          {
           "labels": [],
           "type": "pie",
           "values": []
          },
          {
           "labels": [
            "Primary Enrollment",
            "Secondary Enrollment",
            "Tertiary Enrollment"
           ],
           "type": "pie",
           "values": [
            98.0657272338867,
            49.2973213195801,
            10.7845497131348
           ]
          },
          {
           "labels": [
            "Primary Enrollment"
           ],
           "type": "pie",
           "values": [
            75.9597473144531
           ]
          }
         ],
         "name": "YR2002"
        },
        {
         "data": [
          {
           "labels": [],
           "type": "pie",
           "values": []
          },
          {
           "labels": [
            "Primary Enrollment",
            "Secondary Enrollment",
            "Tertiary Enrollment"
           ],
           "type": "pie",
           "values": [
            106.22322845459,
            51.9028091430664,
            11.2758102416992
           ]
          },
          {
           "labels": [
            "Primary Enrollment",
            "Secondary Enrollment",
            "Tertiary Enrollment"
           ],
           "type": "pie",
           "values": [
            96.5536804199219,
            14.078049659729,
            1.38107001781464
           ]
          }
         ],
         "name": "YR2003"
        },
        {
         "data": [
          {
           "labels": [],
           "type": "pie",
           "values": []
          },
          {
           "labels": [
            "Secondary Enrollment",
            "Tertiary Enrollment"
           ],
           "type": "pie",
           "values": [
            53.6583099365234,
            11.6037998199463
           ]
          },
          {
           "labels": [
            "Primary Enrollment",
            "Secondary Enrollment",
            "Tertiary Enrollment"
           ],
           "type": "pie",
           "values": [
            106.252662658691,
            19.2631397247314,
            1.38966000080109
           ]
          }
         ],
         "name": "YR2004"
        },
        {
         "data": [
          {
           "labels": [],
           "type": "pie",
           "values": []
          },
          {
           "labels": [
            "Secondary Enrollment",
            "Tertiary Enrollment"
           ],
           "type": "pie",
           "values": [
            56.3279800415039,
            11.3199701309204
           ]
          },
          {
           "labels": [
            "Primary Enrollment",
            "Secondary Enrollment"
           ],
           "type": "pie",
           "values": [
            100.229690551758,
            20.3119602203369
           ]
          }
         ],
         "name": "YR2005"
        },
        {
         "data": [
          {
           "labels": [],
           "type": "pie",
           "values": []
          },
          {
           "labels": [
            "Secondary Enrollment",
            "Tertiary Enrollment"
           ],
           "type": "pie",
           "values": [
            57.2240791320801,
            12.1438102722168
           ]
          },
          {
           "labels": [
            "Primary Enrollment",
            "Secondary Enrollment"
           ],
           "type": "pie",
           "values": [
            103.932243347168,
            29.6913509368896
           ]
          }
         ],
         "name": "YR2006"
        },
        {
         "data": [
          {
           "labels": [],
           "type": "pie",
           "values": []
          },
          {
           "labels": [
            "Primary Enrollment",
            "Secondary Enrollment",
            "Tertiary Enrollment"
           ],
           "type": "pie",
           "values": [
            114.114318847656,
            59.5899810791016,
            13.8339099884033
           ]
          },
          {
           "labels": [
            "Primary Enrollment",
            "Secondary Enrollment"
           ],
           "type": "pie",
           "values": [
            101.086456298828,
            29.0891704559326
           ]
          }
         ],
         "name": "YR2007"
        },
        {
         "data": [
          {
           "labels": [],
           "type": "pie",
           "values": []
          },
          {
           "labels": [
            "Primary Enrollment",
            "Secondary Enrollment",
            "Tertiary Enrollment"
           ],
           "type": "pie",
           "values": [
            114.626556396484,
            62.6794281005859,
            15.8141202926636
           ]
          },
          {
           "labels": [
            "Primary Enrollment",
            "Secondary Enrollment"
           ],
           "type": "pie",
           "values": [
            103.413963317871,
            39.090030670166
           ]
          }
         ],
         "name": "YR2008"
        },
        {
         "data": [
          {
           "labels": [],
           "type": "pie",
           "values": []
          },
          {
           "labels": [
            "Primary Enrollment",
            "Secondary Enrollment",
            "Tertiary Enrollment"
           ],
           "type": "pie",
           "values": [
            113.051681518555,
            61.8002281188965,
            16.8205890655518
           ]
          },
          {
           "labels": [
            "Primary Enrollment",
            "Secondary Enrollment",
            "Tertiary Enrollment"
           ],
           "type": "pie",
           "values": [
            99.3697204589844,
            44.3971710205078,
            4.02480983734131
           ]
          }
         ],
         "name": "YR2009"
        },
        {
         "data": [
          {
           "labels": [],
           "type": "pie",
           "values": []
          },
          {
           "labels": [
            "Primary Enrollment",
            "Secondary Enrollment",
            "Tertiary Enrollment"
           ],
           "type": "pie",
           "values": [
            112.527946472168,
            65.3513488769531,
            18.6971797943115
           ]
          },
          {
           "labels": [
            "Primary Enrollment",
            "Secondary Enrollment"
           ],
           "type": "pie",
           "values": [
            102.903442382812,
            50.413688659668
           ]
          }
         ],
         "name": "YR2010"
        },
        {
         "data": [
          {
           "labels": [],
           "type": "pie",
           "values": []
          },
          {
           "labels": [
            "Primary Enrollment",
            "Secondary Enrollment",
            "Tertiary Enrollment"
           ],
           "type": "pie",
           "values": [
            109.70790287368,
            68.5910110473633,
            23.8253688812256
           ]
          },
          {
           "labels": [
            "Primary Enrollment",
            "Secondary Enrollment",
            "Tertiary Enrollment"
           ],
           "type": "pie",
           "values": [
            100.290298461914,
            52.198429107666,
            3.75560998916626
           ]
          }
         ],
         "name": "YR2011"
        },
        {
         "data": [
          {
           "labels": [],
           "type": "pie",
           "values": []
          },
          {
           "labels": [
            "Primary Enrollment",
            "Secondary Enrollment",
            "Tertiary Enrollment"
           ],
           "type": "pie",
           "values": [
            111.775573730469,
            70.3243865966797,
            24.9402103424072
           ]
          },
          {
           "labels": [
            "Primary Enrollment",
            "Secondary Enrollment"
           ],
           "type": "pie",
           "values": [
            106.283401489258,
            54.2063903808594
           ]
          }
         ],
         "name": "YR2012"
        },
        {
         "data": [
          {
           "labels": [
            "Primary Enrollment",
            "Secondary Enrollment",
            "Tertiary Enrollment"
           ],
           "type": "pie",
           "values": [
            102.255889892578,
            101.781173706055,
            62.8381881713867
           ]
          },
          {
           "labels": [
            "Primary Enrollment",
            "Secondary Enrollment",
            "Tertiary Enrollment"
           ],
           "type": "pie",
           "values": [
            113.416778564453,
            69.9568023681641,
            24.3906383514404
           ]
          },
          {
           "labels": [
            "Primary Enrollment",
            "Secondary Enrollment"
           ],
           "type": "pie",
           "values": [
            107.695976257324,
            54.7542190551758
           ]
          }
         ],
         "name": "YR2013"
        },
        {
         "data": [
          {
           "labels": [
            "Primary Enrollment",
            "Secondary Enrollment",
            "Tertiary Enrollment"
           ],
           "type": "pie",
           "values": [
            102.415283203125,
            101.813980102539,
            62.7269897460938
           ]
          },
          {
           "labels": [
            "Primary Enrollment",
            "Secondary Enrollment",
            "Tertiary Enrollment"
           ],
           "type": "pie",
           "values": [
            111.584541320801,
            75.3183288574219,
            25.991325378418
           ]
          },
          {
           "labels": [
            "Primary Enrollment",
            "Secondary Enrollment",
            "Tertiary Enrollment"
           ],
           "type": "pie",
           "values": [
            109.115516662598,
            54.235481262207,
            8.31087017059326
           ]
          }
         ],
         "name": "YR2014"
        },
        {
         "data": [
          {
           "labels": [
            "Primary Enrollment",
            "Secondary Enrollment",
            "Tertiary Enrollment"
           ],
           "type": "pie",
           "values": [
            102.41911315918,
            102.200416564941,
            62.4726600646973
           ]
          },
          {
           "labels": [
            "Primary Enrollment",
            "Secondary Enrollment",
            "Tertiary Enrollment"
           ],
           "type": "pie",
           "values": [
            112.937843322754,
            74.9483337402344,
            27.2845668792725
           ]
          },
          {
           "labels": [
            "Primary Enrollment",
            "Secondary Enrollment"
           ],
           "type": "pie",
           "values": [
            106.182418823242,
            53.2851409912109
           ]
          }
         ],
         "name": "YR2015"
        },
        {
         "data": [
          {
           "labels": [
            "Primary Enrollment",
            "Secondary Enrollment",
            "Tertiary Enrollment"
           ],
           "type": "pie",
           "values": [
            102.216911315918,
            101.167999267578,
            63.1872291564941
           ]
          },
          {
           "labels": [
            "Primary Enrollment",
            "Secondary Enrollment",
            "Tertiary Enrollment"
           ],
           "type": "pie",
           "values": [
            119.512832641602,
            76.119987487793,
            27.3043575286865
           ]
          },
          {
           "labels": [
            "Primary Enrollment",
            "Secondary Enrollment"
           ],
           "type": "pie",
           "values": [
            106.150283813477,
            53.5063400268555
           ]
          }
         ],
         "name": "YR2016"
        },
        {
         "data": [
          {
           "labels": [
            "Primary Enrollment",
            "Secondary Enrollment",
            "Tertiary Enrollment"
           ],
           "type": "pie",
           "values": [
            102.254829406738,
            101.882888793945,
            62.4629783630371
           ]
          },
          {
           "labels": [
            "Primary Enrollment",
            "Secondary Enrollment",
            "Tertiary Enrollment"
           ],
           "type": "pie",
           "values": [
            117.868171691895,
            74.5972671508789,
            27.9090518951416
           ]
          },
          {
           "labels": [
            "Primary Enrollment",
            "Secondary Enrollment"
           ],
           "type": "pie",
           "values": [
            106.129997253418,
            55.4021492004395
           ]
          }
         ],
         "name": "YR2017"
        },
        {
         "data": [
          {
           "labels": [
            "Primary Enrollment",
            "Secondary Enrollment",
            "Tertiary Enrollment"
           ],
           "type": "pie",
           "values": [
            102.099906921387,
            102.425148010254,
            62.2089385986328
           ]
          },
          {
           "labels": [
            "Primary Enrollment",
            "Secondary Enrollment",
            "Tertiary Enrollment"
           ],
           "type": "pie",
           "values": [
            101.097955965022,
            75.7847900390625,
            28.5316867828369
           ]
          },
          {
           "labels": [
            "Primary Enrollment",
            "Secondary Enrollment",
            "Tertiary Enrollment"
           ],
           "type": "pie",
           "values": [
            107.780532836914,
            57.0392990112305,
            9.96378993988037
           ]
          }
         ],
         "name": "YR2018"
        },
        {
         "data": [
          {
           "labels": [
            "Primary Enrollment",
            "Secondary Enrollment",
            "Tertiary Enrollment"
           ],
           "type": "pie",
           "values": [
            102.652282714844,
            102.670066833496,
            62.1184997558594
           ]
          },
          {
           "labels": [
            "Primary Enrollment",
            "Secondary Enrollment",
            "Tertiary Enrollment"
           ],
           "type": "pie",
           "values": [
            99.5039236144817,
            75.5255813598633,
            29.0233592987061
           ]
          },
          {
           "labels": [
            "Primary Enrollment"
           ],
           "type": "pie",
           "values": [
            110.007507324219
           ]
          }
         ],
         "name": "YR2019"
        },
        {
         "data": [
          {
           "labels": [
            "Primary Enrollment",
            "Secondary Enrollment",
            "Tertiary Enrollment"
           ],
           "type": "pie",
           "values": [
            102.736831665039,
            102.844802856445,
            62.1358413696289
           ]
          },
          {
           "labels": [
            "Primary Enrollment",
            "Secondary Enrollment",
            "Tertiary Enrollment"
           ],
           "type": "pie",
           "values": [
            101.291253449929,
            77.6271551845716,
            29.8196392059326
           ]
          },
          {
           "labels": [
            "Tertiary Enrollment"
           ],
           "type": "pie",
           "values": [
            10.8584403991699
           ]
          }
         ],
         "name": "YR2020"
        }
       ],
       "layout": {
        "annotations": [
         {
          "font": {
           "size": 16
          },
          "showarrow": false,
          "text": "Japan",
          "x": 0.5,
          "xanchor": "center",
          "xref": "paper",
          "y": 1,
          "yanchor": "bottom",
          "yref": "paper"
         },
         {
          "font": {
           "size": 16
          },
          "showarrow": false,
          "text": "India",
          "x": 0.5,
          "xanchor": "center",
          "xref": "paper",
          "y": 0.6111111111111112,
          "yanchor": "bottom",
          "yref": "paper"
         },
         {
          "font": {
           "size": 16
          },
          "showarrow": false,
          "text": "Afghanistan",
          "x": 0.5,
          "xanchor": "center",
          "xref": "paper",
          "y": 0.22222222222222224,
          "yanchor": "bottom",
          "yref": "paper"
         }
        ],
        "height": 900,
        "margin": {
         "b": 20,
         "l": 20,
         "r": 20,
         "t": 80
        },
        "sliders": [
         {
          "currentvalue": {
           "prefix": "Year: "
          },
          "steps": [
           {
            "args": [
             [
              "YR1970"
             ],
             {
              "frame": {
               "redraw": true
              },
              "mode": "immediate"
             }
            ],
            "label": "YR1970",
            "method": "animate"
           },
           {
            "args": [
             [
              "YR1971"
             ],
             {
              "frame": {
               "redraw": true
              },
              "mode": "immediate"
             }
            ],
            "label": "YR1971",
            "method": "animate"
           },
           {
            "args": [
             [
              "YR1972"
             ],
             {
              "frame": {
               "redraw": true
              },
              "mode": "immediate"
             }
            ],
            "label": "YR1972",
            "method": "animate"
           },
           {
            "args": [
             [
              "YR1973"
             ],
             {
              "frame": {
               "redraw": true
              },
              "mode": "immediate"
             }
            ],
            "label": "YR1973",
            "method": "animate"
           },
           {
            "args": [
             [
              "YR1974"
             ],
             {
              "frame": {
               "redraw": true
              },
              "mode": "immediate"
             }
            ],
            "label": "YR1974",
            "method": "animate"
           },
           {
            "args": [
             [
              "YR1975"
             ],
             {
              "frame": {
               "redraw": true
              },
              "mode": "immediate"
             }
            ],
            "label": "YR1975",
            "method": "animate"
           },
           {
            "args": [
             [
              "YR1976"
             ],
             {
              "frame": {
               "redraw": true
              },
              "mode": "immediate"
             }
            ],
            "label": "YR1976",
            "method": "animate"
           },
           {
            "args": [
             [
              "YR1977"
             ],
             {
              "frame": {
               "redraw": true
              },
              "mode": "immediate"
             }
            ],
            "label": "YR1977",
            "method": "animate"
           },
           {
            "args": [
             [
              "YR1978"
             ],
             {
              "frame": {
               "redraw": true
              },
              "mode": "immediate"
             }
            ],
            "label": "YR1978",
            "method": "animate"
           },
           {
            "args": [
             [
              "YR1979"
             ],
             {
              "frame": {
               "redraw": true
              },
              "mode": "immediate"
             }
            ],
            "label": "YR1979",
            "method": "animate"
           },
           {
            "args": [
             [
              "YR1980"
             ],
             {
              "frame": {
               "redraw": true
              },
              "mode": "immediate"
             }
            ],
            "label": "YR1980",
            "method": "animate"
           },
           {
            "args": [
             [
              "YR1981"
             ],
             {
              "frame": {
               "redraw": true
              },
              "mode": "immediate"
             }
            ],
            "label": "YR1981",
            "method": "animate"
           },
           {
            "args": [
             [
              "YR1982"
             ],
             {
              "frame": {
               "redraw": true
              },
              "mode": "immediate"
             }
            ],
            "label": "YR1982",
            "method": "animate"
           },
           {
            "args": [
             [
              "YR1983"
             ],
             {
              "frame": {
               "redraw": true
              },
              "mode": "immediate"
             }
            ],
            "label": "YR1983",
            "method": "animate"
           },
           {
            "args": [
             [
              "YR1984"
             ],
             {
              "frame": {
               "redraw": true
              },
              "mode": "immediate"
             }
            ],
            "label": "YR1984",
            "method": "animate"
           },
           {
            "args": [
             [
              "YR1985"
             ],
             {
              "frame": {
               "redraw": true
              },
              "mode": "immediate"
             }
            ],
            "label": "YR1985",
            "method": "animate"
           },
           {
            "args": [
             [
              "YR1986"
             ],
             {
              "frame": {
               "redraw": true
              },
              "mode": "immediate"
             }
            ],
            "label": "YR1986",
            "method": "animate"
           },
           {
            "args": [
             [
              "YR1987"
             ],
             {
              "frame": {
               "redraw": true
              },
              "mode": "immediate"
             }
            ],
            "label": "YR1987",
            "method": "animate"
           },
           {
            "args": [
             [
              "YR1988"
             ],
             {
              "frame": {
               "redraw": true
              },
              "mode": "immediate"
             }
            ],
            "label": "YR1988",
            "method": "animate"
           },
           {
            "args": [
             [
              "YR1989"
             ],
             {
              "frame": {
               "redraw": true
              },
              "mode": "immediate"
             }
            ],
            "label": "YR1989",
            "method": "animate"
           },
           {
            "args": [
             [
              "YR1990"
             ],
             {
              "frame": {
               "redraw": true
              },
              "mode": "immediate"
             }
            ],
            "label": "YR1990",
            "method": "animate"
           },
           {
            "args": [
             [
              "YR1991"
             ],
             {
              "frame": {
               "redraw": true
              },
              "mode": "immediate"
             }
            ],
            "label": "YR1991",
            "method": "animate"
           },
           {
            "args": [
             [
              "YR1992"
             ],
             {
              "frame": {
               "redraw": true
              },
              "mode": "immediate"
             }
            ],
            "label": "YR1992",
            "method": "animate"
           },
           {
            "args": [
             [
              "YR1993"
             ],
             {
              "frame": {
               "redraw": true
              },
              "mode": "immediate"
             }
            ],
            "label": "YR1993",
            "method": "animate"
           },
           {
            "args": [
             [
              "YR1994"
             ],
             {
              "frame": {
               "redraw": true
              },
              "mode": "immediate"
             }
            ],
            "label": "YR1994",
            "method": "animate"
           },
           {
            "args": [
             [
              "YR1995"
             ],
             {
              "frame": {
               "redraw": true
              },
              "mode": "immediate"
             }
            ],
            "label": "YR1995",
            "method": "animate"
           },
           {
            "args": [
             [
              "YR1996"
             ],
             {
              "frame": {
               "redraw": true
              },
              "mode": "immediate"
             }
            ],
            "label": "YR1996",
            "method": "animate"
           },
           {
            "args": [
             [
              "YR1997"
             ],
             {
              "frame": {
               "redraw": true
              },
              "mode": "immediate"
             }
            ],
            "label": "YR1997",
            "method": "animate"
           },
           {
            "args": [
             [
              "YR1998"
             ],
             {
              "frame": {
               "redraw": true
              },
              "mode": "immediate"
             }
            ],
            "label": "YR1998",
            "method": "animate"
           },
           {
            "args": [
             [
              "YR1999"
             ],
             {
              "frame": {
               "redraw": true
              },
              "mode": "immediate"
             }
            ],
            "label": "YR1999",
            "method": "animate"
           },
           {
            "args": [
             [
              "YR2000"
             ],
             {
              "frame": {
               "redraw": true
              },
              "mode": "immediate"
             }
            ],
            "label": "YR2000",
            "method": "animate"
           },
           {
            "args": [
             [
              "YR2001"
             ],
             {
              "frame": {
               "redraw": true
              },
              "mode": "immediate"
             }
            ],
            "label": "YR2001",
            "method": "animate"
           },
           {
            "args": [
             [
              "YR2002"
             ],
             {
              "frame": {
               "redraw": true
              },
              "mode": "immediate"
             }
            ],
            "label": "YR2002",
            "method": "animate"
           },
           {
            "args": [
             [
              "YR2003"
             ],
             {
              "frame": {
               "redraw": true
              },
              "mode": "immediate"
             }
            ],
            "label": "YR2003",
            "method": "animate"
           },
           {
            "args": [
             [
              "YR2004"
             ],
             {
              "frame": {
               "redraw": true
              },
              "mode": "immediate"
             }
            ],
            "label": "YR2004",
            "method": "animate"
           },
           {
            "args": [
             [
              "YR2005"
             ],
             {
              "frame": {
               "redraw": true
              },
              "mode": "immediate"
             }
            ],
            "label": "YR2005",
            "method": "animate"
           },
           {
            "args": [
             [
              "YR2006"
             ],
             {
              "frame": {
               "redraw": true
              },
              "mode": "immediate"
             }
            ],
            "label": "YR2006",
            "method": "animate"
           },
           {
            "args": [
             [
              "YR2007"
             ],
             {
              "frame": {
               "redraw": true
              },
              "mode": "immediate"
             }
            ],
            "label": "YR2007",
            "method": "animate"
           },
           {
            "args": [
             [
              "YR2008"
             ],
             {
              "frame": {
               "redraw": true
              },
              "mode": "immediate"
             }
            ],
            "label": "YR2008",
            "method": "animate"
           },
           {
            "args": [
             [
              "YR2009"
             ],
             {
              "frame": {
               "redraw": true
              },
              "mode": "immediate"
             }
            ],
            "label": "YR2009",
            "method": "animate"
           },
           {
            "args": [
             [
              "YR2010"
             ],
             {
              "frame": {
               "redraw": true
              },
              "mode": "immediate"
             }
            ],
            "label": "YR2010",
            "method": "animate"
           },
           {
            "args": [
             [
              "YR2011"
             ],
             {
              "frame": {
               "redraw": true
              },
              "mode": "immediate"
             }
            ],
            "label": "YR2011",
            "method": "animate"
           },
           {
            "args": [
             [
              "YR2012"
             ],
             {
              "frame": {
               "redraw": true
              },
              "mode": "immediate"
             }
            ],
            "label": "YR2012",
            "method": "animate"
           },
           {
            "args": [
             [
              "YR2013"
             ],
             {
              "frame": {
               "redraw": true
              },
              "mode": "immediate"
             }
            ],
            "label": "YR2013",
            "method": "animate"
           },
           {
            "args": [
             [
              "YR2014"
             ],
             {
              "frame": {
               "redraw": true
              },
              "mode": "immediate"
             }
            ],
            "label": "YR2014",
            "method": "animate"
           },
           {
            "args": [
             [
              "YR2015"
             ],
             {
              "frame": {
               "redraw": true
              },
              "mode": "immediate"
             }
            ],
            "label": "YR2015",
            "method": "animate"
           },
           {
            "args": [
             [
              "YR2016"
             ],
             {
              "frame": {
               "redraw": true
              },
              "mode": "immediate"
             }
            ],
            "label": "YR2016",
            "method": "animate"
           },
           {
            "args": [
             [
              "YR2017"
             ],
             {
              "frame": {
               "redraw": true
              },
              "mode": "immediate"
             }
            ],
            "label": "YR2017",
            "method": "animate"
           },
           {
            "args": [
             [
              "YR2018"
             ],
             {
              "frame": {
               "redraw": true
              },
              "mode": "immediate"
             }
            ],
            "label": "YR2018",
            "method": "animate"
           },
           {
            "args": [
             [
              "YR2019"
             ],
             {
              "frame": {
               "redraw": true
              },
              "mode": "immediate"
             }
            ],
            "label": "YR2019",
            "method": "animate"
           },
           {
            "args": [
             [
              "YR2020"
             ],
             {
              "frame": {
               "redraw": true
              },
              "mode": "immediate"
             }
            ],
            "label": "YR2020",
            "method": "animate"
           }
          ],
          "transition": {
           "duration": 0
          },
          "x": 0.1,
          "y": 0
         }
        ],
        "template": {
         "data": {
          "bar": [
           {
            "error_x": {
             "color": "#2a3f5f"
            },
            "error_y": {
             "color": "#2a3f5f"
            },
            "marker": {
             "line": {
              "color": "white",
              "width": 0.5
             },
             "pattern": {
              "fillmode": "overlay",
              "size": 10,
              "solidity": 0.2
             }
            },
            "type": "bar"
           }
          ],
          "barpolar": [
           {
            "marker": {
             "line": {
              "color": "white",
              "width": 0.5
             },
             "pattern": {
              "fillmode": "overlay",
              "size": 10,
              "solidity": 0.2
             }
            },
            "type": "barpolar"
           }
          ],
          "carpet": [
           {
            "aaxis": {
             "endlinecolor": "#2a3f5f",
             "gridcolor": "#C8D4E3",
             "linecolor": "#C8D4E3",
             "minorgridcolor": "#C8D4E3",
             "startlinecolor": "#2a3f5f"
            },
            "baxis": {
             "endlinecolor": "#2a3f5f",
             "gridcolor": "#C8D4E3",
             "linecolor": "#C8D4E3",
             "minorgridcolor": "#C8D4E3",
             "startlinecolor": "#2a3f5f"
            },
            "type": "carpet"
           }
          ],
          "choropleth": [
           {
            "colorbar": {
             "outlinewidth": 0,
             "ticks": ""
            },
            "type": "choropleth"
           }
          ],
          "contour": [
           {
            "colorbar": {
             "outlinewidth": 0,
             "ticks": ""
            },
            "colorscale": [
             [
              0,
              "#0d0887"
             ],
             [
              0.1111111111111111,
              "#46039f"
             ],
             [
              0.2222222222222222,
              "#7201a8"
             ],
             [
              0.3333333333333333,
              "#9c179e"
             ],
             [
              0.4444444444444444,
              "#bd3786"
             ],
             [
              0.5555555555555556,
              "#d8576b"
             ],
             [
              0.6666666666666666,
              "#ed7953"
             ],
             [
              0.7777777777777778,
              "#fb9f3a"
             ],
             [
              0.8888888888888888,
              "#fdca26"
             ],
             [
              1,
              "#f0f921"
             ]
            ],
            "type": "contour"
           }
          ],
          "contourcarpet": [
           {
            "colorbar": {
             "outlinewidth": 0,
             "ticks": ""
            },
            "type": "contourcarpet"
           }
          ],
          "heatmap": [
           {
            "colorbar": {
             "outlinewidth": 0,
             "ticks": ""
            },
            "colorscale": [
             [
              0,
              "#0d0887"
             ],
             [
              0.1111111111111111,
              "#46039f"
             ],
             [
              0.2222222222222222,
              "#7201a8"
             ],
             [
              0.3333333333333333,
              "#9c179e"
             ],
             [
              0.4444444444444444,
              "#bd3786"
             ],
             [
              0.5555555555555556,
              "#d8576b"
             ],
             [
              0.6666666666666666,
              "#ed7953"
             ],
             [
              0.7777777777777778,
              "#fb9f3a"
             ],
             [
              0.8888888888888888,
              "#fdca26"
             ],
             [
              1,
              "#f0f921"
             ]
            ],
            "type": "heatmap"
           }
          ],
          "heatmapgl": [
           {
            "colorbar": {
             "outlinewidth": 0,
             "ticks": ""
            },
            "colorscale": [
             [
              0,
              "#0d0887"
             ],
             [
              0.1111111111111111,
              "#46039f"
             ],
             [
              0.2222222222222222,
              "#7201a8"
             ],
             [
              0.3333333333333333,
              "#9c179e"
             ],
             [
              0.4444444444444444,
              "#bd3786"
             ],
             [
              0.5555555555555556,
              "#d8576b"
             ],
             [
              0.6666666666666666,
              "#ed7953"
             ],
             [
              0.7777777777777778,
              "#fb9f3a"
             ],
             [
              0.8888888888888888,
              "#fdca26"
             ],
             [
              1,
              "#f0f921"
             ]
            ],
            "type": "heatmapgl"
           }
          ],
          "histogram": [
           {
            "marker": {
             "pattern": {
              "fillmode": "overlay",
              "size": 10,
              "solidity": 0.2
             }
            },
            "type": "histogram"
           }
          ],
          "histogram2d": [
           {
            "colorbar": {
             "outlinewidth": 0,
             "ticks": ""
            },
            "colorscale": [
             [
              0,
              "#0d0887"
             ],
             [
              0.1111111111111111,
              "#46039f"
             ],
             [
              0.2222222222222222,
              "#7201a8"
             ],
             [
              0.3333333333333333,
              "#9c179e"
             ],
             [
              0.4444444444444444,
              "#bd3786"
             ],
             [
              0.5555555555555556,
              "#d8576b"
             ],
             [
              0.6666666666666666,
              "#ed7953"
             ],
             [
              0.7777777777777778,
              "#fb9f3a"
             ],
             [
              0.8888888888888888,
              "#fdca26"
             ],
             [
              1,
              "#f0f921"
             ]
            ],
            "type": "histogram2d"
           }
          ],
          "histogram2dcontour": [
           {
            "colorbar": {
             "outlinewidth": 0,
             "ticks": ""
            },
            "colorscale": [
             [
              0,
              "#0d0887"
             ],
             [
              0.1111111111111111,
              "#46039f"
             ],
             [
              0.2222222222222222,
              "#7201a8"
             ],
             [
              0.3333333333333333,
              "#9c179e"
             ],
             [
              0.4444444444444444,
              "#bd3786"
             ],
             [
              0.5555555555555556,
              "#d8576b"
             ],
             [
              0.6666666666666666,
              "#ed7953"
             ],
             [
              0.7777777777777778,
              "#fb9f3a"
             ],
             [
              0.8888888888888888,
              "#fdca26"
             ],
             [
              1,
              "#f0f921"
             ]
            ],
            "type": "histogram2dcontour"
           }
          ],
          "mesh3d": [
           {
            "colorbar": {
             "outlinewidth": 0,
             "ticks": ""
            },
            "type": "mesh3d"
           }
          ],
          "parcoords": [
           {
            "line": {
             "colorbar": {
              "outlinewidth": 0,
              "ticks": ""
             }
            },
            "type": "parcoords"
           }
          ],
          "pie": [
           {
            "automargin": true,
            "type": "pie"
           }
          ],
          "scatter": [
           {
            "fillpattern": {
             "fillmode": "overlay",
             "size": 10,
             "solidity": 0.2
            },
            "type": "scatter"
           }
          ],
          "scatter3d": [
           {
            "line": {
             "colorbar": {
              "outlinewidth": 0,
              "ticks": ""
             }
            },
            "marker": {
             "colorbar": {
              "outlinewidth": 0,
              "ticks": ""
             }
            },
            "type": "scatter3d"
           }
          ],
          "scattercarpet": [
           {
            "marker": {
             "colorbar": {
              "outlinewidth": 0,
              "ticks": ""
             }
            },
            "type": "scattercarpet"
           }
          ],
          "scattergeo": [
           {
            "marker": {
             "colorbar": {
              "outlinewidth": 0,
              "ticks": ""
             }
            },
            "type": "scattergeo"
           }
          ],
          "scattergl": [
           {
            "marker": {
             "colorbar": {
              "outlinewidth": 0,
              "ticks": ""
             }
            },
            "type": "scattergl"
           }
          ],
          "scattermapbox": [
           {
            "marker": {
             "colorbar": {
              "outlinewidth": 0,
              "ticks": ""
             }
            },
            "type": "scattermapbox"
           }
          ],
          "scatterpolar": [
           {
            "marker": {
             "colorbar": {
              "outlinewidth": 0,
              "ticks": ""
             }
            },
            "type": "scatterpolar"
           }
          ],
          "scatterpolargl": [
           {
            "marker": {
             "colorbar": {
              "outlinewidth": 0,
              "ticks": ""
             }
            },
            "type": "scatterpolargl"
           }
          ],
          "scatterternary": [
           {
            "marker": {
             "colorbar": {
              "outlinewidth": 0,
              "ticks": ""
             }
            },
            "type": "scatterternary"
           }
          ],
          "surface": [
           {
            "colorbar": {
             "outlinewidth": 0,
             "ticks": ""
            },
            "colorscale": [
             [
              0,
              "#0d0887"
             ],
             [
              0.1111111111111111,
              "#46039f"
             ],
             [
              0.2222222222222222,
              "#7201a8"
             ],
             [
              0.3333333333333333,
              "#9c179e"
             ],
             [
              0.4444444444444444,
              "#bd3786"
             ],
             [
              0.5555555555555556,
              "#d8576b"
             ],
             [
              0.6666666666666666,
              "#ed7953"
             ],
             [
              0.7777777777777778,
              "#fb9f3a"
             ],
             [
              0.8888888888888888,
              "#fdca26"
             ],
             [
              1,
              "#f0f921"
             ]
            ],
            "type": "surface"
           }
          ],
          "table": [
           {
            "cells": {
             "fill": {
              "color": "#EBF0F8"
             },
             "line": {
              "color": "white"
             }
            },
            "header": {
             "fill": {
              "color": "#C8D4E3"
             },
             "line": {
              "color": "white"
             }
            },
            "type": "table"
           }
          ]
         },
         "layout": {
          "annotationdefaults": {
           "arrowcolor": "#2a3f5f",
           "arrowhead": 0,
           "arrowwidth": 1
          },
          "autotypenumbers": "strict",
          "coloraxis": {
           "colorbar": {
            "outlinewidth": 0,
            "ticks": ""
           }
          },
          "colorscale": {
           "diverging": [
            [
             0,
             "#8e0152"
            ],
            [
             0.1,
             "#c51b7d"
            ],
            [
             0.2,
             "#de77ae"
            ],
            [
             0.3,
             "#f1b6da"
            ],
            [
             0.4,
             "#fde0ef"
            ],
            [
             0.5,
             "#f7f7f7"
            ],
            [
             0.6,
             "#e6f5d0"
            ],
            [
             0.7,
             "#b8e186"
            ],
            [
             0.8,
             "#7fbc41"
            ],
            [
             0.9,
             "#4d9221"
            ],
            [
             1,
             "#276419"
            ]
           ],
           "sequential": [
            [
             0,
             "#0d0887"
            ],
            [
             0.1111111111111111,
             "#46039f"
            ],
            [
             0.2222222222222222,
             "#7201a8"
            ],
            [
             0.3333333333333333,
             "#9c179e"
            ],
            [
             0.4444444444444444,
             "#bd3786"
            ],
            [
             0.5555555555555556,
             "#d8576b"
            ],
            [
             0.6666666666666666,
             "#ed7953"
            ],
            [
             0.7777777777777778,
             "#fb9f3a"
            ],
            [
             0.8888888888888888,
             "#fdca26"
            ],
            [
             1,
             "#f0f921"
            ]
           ],
           "sequentialminus": [
            [
             0,
             "#0d0887"
            ],
            [
             0.1111111111111111,
             "#46039f"
            ],
            [
             0.2222222222222222,
             "#7201a8"
            ],
            [
             0.3333333333333333,
             "#9c179e"
            ],
            [
             0.4444444444444444,
             "#bd3786"
            ],
            [
             0.5555555555555556,
             "#d8576b"
            ],
            [
             0.6666666666666666,
             "#ed7953"
            ],
            [
             0.7777777777777778,
             "#fb9f3a"
            ],
            [
             0.8888888888888888,
             "#fdca26"
            ],
            [
             1,
             "#f0f921"
            ]
           ]
          },
          "colorway": [
           "#636efa",
           "#EF553B",
           "#00cc96",
           "#ab63fa",
           "#FFA15A",
           "#19d3f3",
           "#FF6692",
           "#B6E880",
           "#FF97FF",
           "#FECB52"
          ],
          "font": {
           "color": "#2a3f5f"
          },
          "geo": {
           "bgcolor": "white",
           "lakecolor": "white",
           "landcolor": "white",
           "showlakes": true,
           "showland": true,
           "subunitcolor": "#C8D4E3"
          },
          "hoverlabel": {
           "align": "left"
          },
          "hovermode": "closest",
          "mapbox": {
           "style": "light"
          },
          "paper_bgcolor": "white",
          "plot_bgcolor": "white",
          "polar": {
           "angularaxis": {
            "gridcolor": "#EBF0F8",
            "linecolor": "#EBF0F8",
            "ticks": ""
           },
           "bgcolor": "white",
           "radialaxis": {
            "gridcolor": "#EBF0F8",
            "linecolor": "#EBF0F8",
            "ticks": ""
           }
          },
          "scene": {
           "xaxis": {
            "backgroundcolor": "white",
            "gridcolor": "#DFE8F3",
            "gridwidth": 2,
            "linecolor": "#EBF0F8",
            "showbackground": true,
            "ticks": "",
            "zerolinecolor": "#EBF0F8"
           },
           "yaxis": {
            "backgroundcolor": "white",
            "gridcolor": "#DFE8F3",
            "gridwidth": 2,
            "linecolor": "#EBF0F8",
            "showbackground": true,
            "ticks": "",
            "zerolinecolor": "#EBF0F8"
           },
           "zaxis": {
            "backgroundcolor": "white",
            "gridcolor": "#DFE8F3",
            "gridwidth": 2,
            "linecolor": "#EBF0F8",
            "showbackground": true,
            "ticks": "",
            "zerolinecolor": "#EBF0F8"
           }
          },
          "shapedefaults": {
           "line": {
            "color": "#2a3f5f"
           }
          },
          "ternary": {
           "aaxis": {
            "gridcolor": "#DFE8F3",
            "linecolor": "#A2B1C6",
            "ticks": ""
           },
           "baxis": {
            "gridcolor": "#DFE8F3",
            "linecolor": "#A2B1C6",
            "ticks": ""
           },
           "bgcolor": "white",
           "caxis": {
            "gridcolor": "#DFE8F3",
            "linecolor": "#A2B1C6",
            "ticks": ""
           }
          },
          "title": {
           "x": 0.05
          },
          "xaxis": {
           "automargin": true,
           "gridcolor": "#EBF0F8",
           "linecolor": "#EBF0F8",
           "ticks": "",
           "title": {
            "standoff": 15
           },
           "zerolinecolor": "#EBF0F8",
           "zerolinewidth": 2
          },
          "yaxis": {
           "automargin": true,
           "gridcolor": "#EBF0F8",
           "linecolor": "#EBF0F8",
           "ticks": "",
           "title": {
            "standoff": 15
           },
           "zerolinecolor": "#EBF0F8",
           "zerolinewidth": 2
          }
         }
        },
        "title": {
         "text": "Enrollment Distribution by School Level Over Time"
        },
        "updatemenus": [
         {
          "buttons": [
           {
            "args": [
             null,
             {
              "frame": {
               "duration": 700,
               "redraw": true
              },
              "fromcurrent": true
             }
            ],
            "label": "Play",
            "method": "animate"
           }
          ],
          "showactive": false,
          "type": "buttons",
          "x": 1.15,
          "xanchor": "right",
          "y": 1.05,
          "yanchor": "top"
         }
        ]
       }
      }
     },
     "metadata": {},
     "output_type": "display_data"
    }
   ],
   "source": [
    "import pandas as pd\n",
    "import plotly.graph_objects as go\n",
    "from plotly.subplots import make_subplots\n",
    "\n",
    "# Prepare your melted DataFrame\n",
    "df_melt = (\n",
    "    df\n",
    "    .melt(\n",
    "        id_vars=['Year','Country'],\n",
    "        value_vars=['Primary Enrollment','Secondary Enrollment','Tertiary Enrollment'],\n",
    "        var_name='Level',\n",
    "        value_name='Enrollment'\n",
    "    )\n",
    "    .dropna(subset=['Enrollment'])\n",
    ")\n",
    "\n",
    "years     = sorted(df_melt['Year'].unique())\n",
    "countries = df_melt['Country'].unique().tolist()\n",
    "\n",
    "# Create one pie subplot per country\n",
    "fig = make_subplots(\n",
    "    rows=len(countries),\n",
    "    cols=1,\n",
    "    specs=[[{\"type\":\"domain\"}] for _ in countries],\n",
    "    subplot_titles=countries\n",
    ")\n",
    "\n",
    "# Add the initial frame (first year)\n",
    "for i, country in enumerate(countries, start=1):\n",
    "    data0 = df_melt.query(\"Year == @years[0] and Country == @country\")\n",
    "    fig.add_trace(\n",
    "        go.Pie(labels=data0['Level'], values=data0['Enrollment'], name=country),\n",
    "        row=i, col=1\n",
    "    )\n",
    "\n",
    "# Build each subsequent frame\n",
    "frames = []\n",
    "for yr in years:\n",
    "    frame_traces = []\n",
    "    for country in countries:\n",
    "        d = df_melt.query(\"Year == @yr and Country == @country\")\n",
    "        frame_traces.append(go.Pie(labels=d['Level'], values=d['Enrollment']))\n",
    "    frames.append(go.Frame(data=frame_traces, name=str(yr)))\n",
    "\n",
    "fig.frames = frames\n",
    "\n",
    "# Add play button & slider\n",
    "fig.update_layout(\n",
    "    updatemenus=[dict(\n",
    "        type=\"buttons\",\n",
    "        showactive=False,\n",
    "        y=1.05,\n",
    "        x=1.15,\n",
    "        xanchor=\"right\",\n",
    "        yanchor=\"top\",\n",
    "        buttons=[dict(\n",
    "            label=\"Play\",\n",
    "            method=\"animate\",\n",
    "            args=[None, {\n",
    "                \"frame\": {\"duration\": 700, \"redraw\": True},\n",
    "                \"fromcurrent\": True\n",
    "            }]\n",
    "        )]\n",
    "    )],\n",
    "    sliders=[dict(\n",
    "        steps=[dict(\n",
    "            method=\"animate\",\n",
    "            args=[[str(yr)], {\"mode\":\"immediate\",\"frame\":{\"redraw\":True}}],\n",
    "            label=str(yr)\n",
    "        ) for yr in years],\n",
    "        transition={\"duration\": 0},\n",
    "        x=0.1, y=0, currentvalue={\"prefix\":\"Year: \"}\n",
    "    )],\n",
    "    title=\"Enrollment Distribution by School Level Over Time\",\n",
    "    template=\"plotly_white\",\n",
    "    margin=dict(l=20, r=20, t=80, b=20),\n",
    "    height=300 * len(countries)\n",
    ")\n",
    "\n",
    "fig.show()\n"
   ]
  }
 ],
 "metadata": {
  "kernelspec": {
   "display_name": "base",
   "language": "python",
   "name": "python3"
  },
  "language_info": {
   "codemirror_mode": {
    "name": "ipython",
    "version": 3
   },
   "file_extension": ".py",
   "mimetype": "text/x-python",
   "name": "python",
   "nbconvert_exporter": "python",
   "pygments_lexer": "ipython3",
   "version": "3.12.2"
  }
 },
 "nbformat": 4,
 "nbformat_minor": 2
}
